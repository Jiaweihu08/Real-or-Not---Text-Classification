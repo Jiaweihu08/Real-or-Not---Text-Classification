{
  "nbformat": 4,
  "nbformat_minor": 0,
  "metadata": {
    "colab": {
      "name": "Real or Not - Tweeter Disaster Prediction.ipynb",
      "provenance": [],
      "collapsed_sections": [
        "ofUBgC6Y5Fpj",
        "b2IuQcoZCM5J",
        "-tL8QDfIdyGh",
        "lxi20_XYHItT",
        "53w9NPoLllZ1",
        "pd-1qDnctxkH",
        "jjdrr_r-d0qe",
        "EwzLywyO1acA",
        "qjxB6Cf64_Hp",
        "rWVjHFuGOEpG",
        "OlseiulpOgaK",
        "Tyh5J7YkE2Bz",
        "LxpzxMStH1r_",
        "rmjBVxluJaGg",
        "g9Zmd0u6JoK1",
        "0qU6Ab8aU6Cn"
      ],
      "authorship_tag": "ABX9TyMBZPVlUnXz9wWZsrQAitDY",
      "include_colab_link": true
    },
    "kernelspec": {
      "name": "python3",
      "display_name": "Python 3"
    },
    "accelerator": "GPU"
  },
  "cells": [
    {
      "cell_type": "markdown",
      "metadata": {
        "id": "view-in-github",
        "colab_type": "text"
      },
      "source": [
        "<a href=\"https://colab.research.google.com/github/Jiaweihu08/Real-or-Not---Text-Classification/blob/master/Real_or_Not_Tweeter_Disaster_Prediction.ipynb\" target=\"_parent\"><img src=\"https://colab.research.google.com/assets/colab-badge.svg\" alt=\"Open In Colab\"/></a>"
      ]
    },
    {
      "cell_type": "code",
      "metadata": {
        "id": "nKGzfV3S_SgR",
        "colab_type": "code",
        "outputId": "230937db-9947-4102-efb3-291356f99721",
        "colab": {
          "base_uri": "https://localhost:8080/",
          "height": 119
        }
      },
      "source": [
        "%tensorflow_version 2.x\n",
        "\n",
        "import tensorflow as tf\n",
        "from tensorflow import keras\n",
        "from keras.preprocessing.text import Tokenizer\n",
        "from keras.preprocessing.sequence import pad_sequences\n",
        "import tensorflow_datasets as tfds\n",
        "import tensorflow_hub as hub\n",
        "\n",
        "import nltk\n",
        "from nltk.tokenize import word_tokenize\n",
        "nltk.download('punkt')\n",
        "from nltk.corpus import stopwords\n",
        "nltk.download('stopwords')\n",
        "from nltk import FreqDist\n",
        "\n",
        "from sklearn.preprocessing import LabelEncoder\n",
        "from sklearn.model_selection import train_test_split\n",
        "import pandas as pd\n",
        "import numpy as np\n",
        "import matplotlib.pyplot as plt\n",
        "import seaborn as sns\n",
        "\n",
        "from collections import Counter\n",
        "import re\n",
        "import string"
      ],
      "execution_count": 0,
      "outputs": [
        {
          "output_type": "stream",
          "text": [
            "TensorFlow 2.x selected.\n"
          ],
          "name": "stdout"
        },
        {
          "output_type": "stream",
          "text": [
            "Using TensorFlow backend.\n"
          ],
          "name": "stderr"
        },
        {
          "output_type": "stream",
          "text": [
            "[nltk_data] Downloading package punkt to /root/nltk_data...\n",
            "[nltk_data]   Package punkt is already up-to-date!\n",
            "[nltk_data] Downloading package stopwords to /root/nltk_data...\n",
            "[nltk_data]   Package stopwords is already up-to-date!\n"
          ],
          "name": "stdout"
        }
      ]
    },
    {
      "cell_type": "markdown",
      "metadata": {
        "id": "ofUBgC6Y5Fpj",
        "colab_type": "text"
      },
      "source": [
        "### Loading Data"
      ]
    },
    {
      "cell_type": "code",
      "metadata": {
        "id": "MVWR7Z6JBblb",
        "colab_type": "code",
        "outputId": "4fc3d066-7d14-4a82-b632-c226bebcb52f",
        "colab": {
          "base_uri": "https://localhost:8080/",
          "height": 34
        }
      },
      "source": [
        "from google.colab import drive\n",
        "drive.mount('/content/drive')"
      ],
      "execution_count": 0,
      "outputs": [
        {
          "output_type": "stream",
          "text": [
            "Drive already mounted at /content/drive; to attempt to forcibly remount, call drive.mount(\"/content/drive\", force_remount=True).\n"
          ],
          "name": "stdout"
        }
      ]
    },
    {
      "cell_type": "code",
      "metadata": {
        "id": "HDGiyuACB05m",
        "colab_type": "code",
        "outputId": "b5349a24-33c1-4459-a521-74c3becb2c72",
        "colab": {
          "base_uri": "https://localhost:8080/",
          "height": 204
        }
      },
      "source": [
        "train_path = \"/content/drive/My Drive/Colab Notebooks/NLP/Real or Not/train.csv\"\n",
        "test_path = \"/content/drive/My Drive/Colab Notebooks/NLP/Real or Not/test.csv\"\n",
        "\n",
        "def load_data(path=train_path):\n",
        "    return pd.read_csv(path)\n",
        "\n",
        "df = load_data()\n",
        "df.head()"
      ],
      "execution_count": 0,
      "outputs": [
        {
          "output_type": "execute_result",
          "data": {
            "text/html": [
              "<div>\n",
              "<style scoped>\n",
              "    .dataframe tbody tr th:only-of-type {\n",
              "        vertical-align: middle;\n",
              "    }\n",
              "\n",
              "    .dataframe tbody tr th {\n",
              "        vertical-align: top;\n",
              "    }\n",
              "\n",
              "    .dataframe thead th {\n",
              "        text-align: right;\n",
              "    }\n",
              "</style>\n",
              "<table border=\"1\" class=\"dataframe\">\n",
              "  <thead>\n",
              "    <tr style=\"text-align: right;\">\n",
              "      <th></th>\n",
              "      <th>id</th>\n",
              "      <th>keyword</th>\n",
              "      <th>location</th>\n",
              "      <th>text</th>\n",
              "      <th>target</th>\n",
              "    </tr>\n",
              "  </thead>\n",
              "  <tbody>\n",
              "    <tr>\n",
              "      <th>0</th>\n",
              "      <td>1</td>\n",
              "      <td>NaN</td>\n",
              "      <td>NaN</td>\n",
              "      <td>Our Deeds are the Reason of this #earthquake M...</td>\n",
              "      <td>1</td>\n",
              "    </tr>\n",
              "    <tr>\n",
              "      <th>1</th>\n",
              "      <td>4</td>\n",
              "      <td>NaN</td>\n",
              "      <td>NaN</td>\n",
              "      <td>Forest fire near La Ronge Sask. Canada</td>\n",
              "      <td>1</td>\n",
              "    </tr>\n",
              "    <tr>\n",
              "      <th>2</th>\n",
              "      <td>5</td>\n",
              "      <td>NaN</td>\n",
              "      <td>NaN</td>\n",
              "      <td>All residents asked to 'shelter in place' are ...</td>\n",
              "      <td>1</td>\n",
              "    </tr>\n",
              "    <tr>\n",
              "      <th>3</th>\n",
              "      <td>6</td>\n",
              "      <td>NaN</td>\n",
              "      <td>NaN</td>\n",
              "      <td>13,000 people receive #wildfires evacuation or...</td>\n",
              "      <td>1</td>\n",
              "    </tr>\n",
              "    <tr>\n",
              "      <th>4</th>\n",
              "      <td>7</td>\n",
              "      <td>NaN</td>\n",
              "      <td>NaN</td>\n",
              "      <td>Just got sent this photo from Ruby #Alaska as ...</td>\n",
              "      <td>1</td>\n",
              "    </tr>\n",
              "  </tbody>\n",
              "</table>\n",
              "</div>"
            ],
            "text/plain": [
              "   id keyword  ...                                               text target\n",
              "0   1     NaN  ...  Our Deeds are the Reason of this #earthquake M...      1\n",
              "1   4     NaN  ...             Forest fire near La Ronge Sask. Canada      1\n",
              "2   5     NaN  ...  All residents asked to 'shelter in place' are ...      1\n",
              "3   6     NaN  ...  13,000 people receive #wildfires evacuation or...      1\n",
              "4   7     NaN  ...  Just got sent this photo from Ruby #Alaska as ...      1\n",
              "\n",
              "[5 rows x 5 columns]"
            ]
          },
          "metadata": {
            "tags": []
          },
          "execution_count": 2
        }
      ]
    },
    {
      "cell_type": "markdown",
      "metadata": {
        "id": "b2IuQcoZCM5J",
        "colab_type": "text"
      },
      "source": [
        "### EDA"
      ]
    },
    {
      "cell_type": "markdown",
      "metadata": {
        "id": "Cm0O-iM0XdK7",
        "colab_type": "text"
      },
      "source": [
        "1. General Dataset info\n",
        "\n",
        "    a. Number of samples\n",
        "\n",
        "    b. Data columns\n",
        "\n",
        "    c. Class label distribution\n",
        "\n",
        "2. Text Analysis\n",
        "    \n",
        "    a. Number of characters in tweets\n",
        "\n",
        "    b. Number of words in tweets\n",
        "\n",
        "    c. Average word length in tweets\n",
        "\n",
        "    d. Common word distribution\n",
        "\n",
        "    e. Hashtag analysis\n",
        "\n",
        "    f. KW and Location analysis"
      ]
    },
    {
      "cell_type": "markdown",
      "metadata": {
        "id": "-tL8QDfIdyGh",
        "colab_type": "text"
      },
      "source": [
        "#### General Dataset Information"
      ]
    },
    {
      "cell_type": "code",
      "metadata": {
        "id": "ISilM8BMCEGn",
        "colab_type": "code",
        "outputId": "dd561c6c-dac4-4faa-c58f-80978bbab1da",
        "colab": {
          "base_uri": "https://localhost:8080/",
          "height": 68
        }
      },
      "source": [
        "print(\"- Number of total training instances: {}\".format(len(df)))\n",
        "print(\"- Columns in the training dataset: \\n    {}\".format(df.columns))"
      ],
      "execution_count": 0,
      "outputs": [
        {
          "output_type": "stream",
          "text": [
            "- Number of total training instances: 7613\n",
            "- Columns in the training dataset: \n",
            "    Index(['id', 'keyword', 'location', 'text', 'target'], dtype='object')\n"
          ],
          "name": "stdout"
        }
      ]
    },
    {
      "cell_type": "code",
      "metadata": {
        "id": "pw5M2l9uFHtJ",
        "colab_type": "code",
        "outputId": "740e3498-4943-4537-f1d2-4cdb2bb778bc",
        "colab": {
          "base_uri": "https://localhost:8080/",
          "height": 316
        }
      },
      "source": [
        "print(\"- Total number of positive instances: {}\".format(len(df.loc[df['target'] == 1])))\n",
        "print(\"- Total number of negative instances: {}\".format(len(df.loc[df['target'] == 0])))\n",
        "\n",
        "x = df.target.value_counts()\n",
        "sns.barplot(x.index, x)\n",
        "plt.gca().set_ylabel('samples')"
      ],
      "execution_count": 0,
      "outputs": [
        {
          "output_type": "stream",
          "text": [
            "- Total number of positive instances: 3271\n",
            "- Total number of negative instances: 4342\n"
          ],
          "name": "stdout"
        },
        {
          "output_type": "execute_result",
          "data": {
            "text/plain": [
              "Text(0, 0.5, 'samples')"
            ]
          },
          "metadata": {
            "tags": []
          },
          "execution_count": 5
        },
        {
          "output_type": "display_data",
          "data": {
            "image/png": "[encoded data removed]",
            "text/plain": [
              "<Figure size 432x288 with 1 Axes>"
            ]
          },
          "metadata": {
            "tags": []
          }
        }
      ]
    },
    {
      "cell_type": "markdown",
      "metadata": {
        "id": "lxi20_XYHItT",
        "colab_type": "text"
      },
      "source": [
        "#### Text Analysis"
      ]
    },
    {
      "cell_type": "markdown",
      "metadata": {
        "id": "53w9NPoLllZ1",
        "colab_type": "text"
      },
      "source": [
        "##### **a/b. Character and Word Distribution:**"
      ]
    },
    {
      "cell_type": "code",
      "metadata": {
        "id": "LaYq2j66ltmu",
        "colab_type": "code",
        "outputId": "f45eecc6-eb8e-4de8-9413-7aaedee9aa78",
        "colab": {
          "base_uri": "https://localhost:8080/",
          "height": 695
        }
      },
      "source": [
        "def plot_hist(dist, _header):\n",
        "    fig, (ax1, ax2) = plt.subplots(1,2,figsize=(10, 5))\n",
        "    #sns.distplot(dist(0), ax=ax1, color='blue')\n",
        "    ax1.hist(dist(0), color='blue')\n",
        "    ax1.set_title(\"Positive Tweets [Good Posts]\")\n",
        "    \n",
        "    #sns.distplot(dist(1), ax=ax2, color='red')\n",
        "    ax2.hist(dist(1), color='red')\n",
        "    ax2.set_title(\"Negative Tweets [Disasters]\")\n",
        "    fig.suptitle(_header)\n",
        "    plt.show()\n",
        "    plt.close()\n",
        "\n",
        "def char_length(_target):\n",
        "    return df[df['target'] == _target]['text'].str.len()\n",
        "\n",
        "def num_words(_target):\n",
        "    return df[df['target'] == _target]['text'].str.split().map(lambda x: len(x))\n",
        "\n",
        "plot_hist(char_length, \"Character Distribution\")\n",
        "\n",
        "plot_hist(num_words, \"Word Distribution\")"
      ],
      "execution_count": 0,
      "outputs": [
        {
          "output_type": "display_data",
          "data": {
            "image/png": "[encoded data removed]",
            "text/plain": [
              "<Figure size 720x360 with 2 Axes>"
            ]
          },
          "metadata": {
            "tags": []
          }
        },
        {
          "output_type": "display_data",
          "data": {
            "image/png": "[encoded data removed]",
            "text/plain": [
              "<Figure size 720x360 with 2 Axes>"
            ]
          },
          "metadata": {
            "tags": []
          }
        }
      ]
    },
    {
      "cell_type": "markdown",
      "metadata": {
        "id": "pd-1qDnctxkH",
        "colab_type": "text"
      },
      "source": [
        "##### **c. Average Word Length Distribution:**\n",
        "\n",
        "Difference between map, apply, and applymap:\n",
        "1. map does element-wise operations on a Series\n",
        "2. apply does operations on a columns/row bases of a DataFrame\n",
        "3. applymap works element-wise on a DataFrame"
      ]
    },
    {
      "cell_type": "code",
      "metadata": {
        "id": "HxfurxYXh2az",
        "colab_type": "code",
        "outputId": "3d114a66-38b5-43e7-f9d4-f70ecfb69799",
        "colab": {
          "base_uri": "https://localhost:8080/",
          "height": 370
        }
      },
      "source": [
        "fig, (ax1, ax2) = plt.subplots(1,2,figsize=(10,5))\n",
        "\n",
        "p_avg_len = df[df['target'] == 0]['text'].str.split().map(lambda x: [len(i) for i in x])\n",
        "sns.distplot(p_avg_len.map(lambda x: np.mean(x)), ax=ax1, color='blue')\n",
        "#ax1.hist(p_avg_len.map(lambda x: np.mean(x)), color='blue')\n",
        "ax1.set_title('Positive Tweets [Good Posts]')\n",
        "\n",
        "n_avg_len = df[df['target'] == 1]['text'].str.split().map(lambda x: [len(i) for i in x])\n",
        "sns.distplot(n_avg_len.map(lambda x: np.mean(x)), ax=ax2, color='red')\n",
        "#ax2.hist(n_avg_len.map(lambda x: np.mean(x)), color='red')\n",
        "ax2.set_title('Negative Tweets [Disasters]')\n",
        "\n",
        "fig.suptitle('Average Word Length Distributions')\n",
        "plt.show()\n",
        "plt.close()"
      ],
      "execution_count": 0,
      "outputs": [
        {
          "output_type": "display_data",
          "data": {
            "image/png": "[encoded data removed]",
            "text/plain": [
              "<Figure size 720x360 with 2 Axes>"
            ]
          },
          "metadata": {
            "tags": []
          }
        }
      ]
    },
    {
      "cell_type": "markdown",
      "metadata": {
        "id": "jjdrr_r-d0qe",
        "colab_type": "text"
      },
      "source": [
        "##### **d. Most Common Word distribution:**"
      ]
    },
    {
      "cell_type": "code",
      "metadata": {
        "id": "hzU5pEt4h2Z9",
        "colab_type": "code",
        "colab": {}
      },
      "source": [
        "stop = set(stopwords.words('english') + ['http', 'https', 'nt'])\n",
        "\n",
        "def show_word_distribution(target=1, field='text', stop=stop):\n",
        "    b = 'disaster' if target == 1 else 'good'\n",
        "    print(\"Most common words in {} tweets\".format(b))\n",
        "    \n",
        "    txt = df[df['target'] == target][field].str.lower().str.replace(r'\\|', ' ').str.cat(sep=' ')\n",
        "    words = word_tokenize(txt)\n",
        "    not_stop_word_dist = FreqDist(w for w in words if w not in stop)\n",
        "    \n",
        "    # vocab = Counter()\n",
        "    # txt = df[df['target'] == target]['text'].str.lower().str.replace(r'\\|', ' ')\n",
        "    # for text in txt:\n",
        "    #     not_stop_words = [w for w in word_tokenize(text) if w not in stop]\n",
        "    #     vocab.update(not_stop_words)\n",
        "    \n",
        "    result = pd.DataFrame(not_stop_word_dist.most_common(10), columns = ['Word', 'Frequency']).set_index('Word')\n",
        "    print(result)\n",
        "    result.plot.bar(rot=0)"
      ],
      "execution_count": 0,
      "outputs": []
    },
    {
      "cell_type": "code",
      "metadata": {
        "id": "5WseAfukh2Wj",
        "colab_type": "code",
        "outputId": "1a5fa208-5552-49a3-bfa6-dcf8ba85e26d",
        "colab": {
          "base_uri": "https://localhost:8080/",
          "height": 983
        }
      },
      "source": [
        "show_word_distribution(0)\n",
        "show_word_distribution(1)"
      ],
      "execution_count": 0,
      "outputs": [
        {
          "output_type": "stream",
          "text": [
            "Most common words in good tweets\n",
            "      Frequency\n",
            "Word           \n",
            ":          3030\n",
            "?          2364\n",
            ".          1882\n",
            "@          1854\n",
            "#          1700\n",
            "!           843\n",
            "'s          515\n",
            "...         426\n",
            "'           400\n",
            "-           388\n",
            "Most common words in disaster tweets\n",
            "      Frequency\n",
            "Word           \n",
            ":          3676\n",
            "#          1703\n",
            ".          1085\n",
            "@           905\n",
            "?           762\n",
            "...         637\n",
            "-           397\n",
            "!           330\n",
            "'           295\n",
            "'s          276\n"
          ],
          "name": "stdout"
        },
        {
          "output_type": "display_data",
          "data": {
            "image/png": "[encoded data removed]",
            "text/plain": [
              "<Figure size 432x288 with 1 Axes>"
            ]
          },
          "metadata": {
            "tags": []
          }
        },
        {
          "output_type": "display_data",
          "data": {
            "image/png": "[encoded data removed]",
            "text/plain": [
              "<Figure size 432x288 with 1 Axes>"
            ]
          },
          "metadata": {
            "tags": []
          }
        }
      ]
    },
    {
      "cell_type": "markdown",
      "metadata": {
        "id": "EwzLywyO1acA",
        "colab_type": "text"
      },
      "source": [
        "##### **e. Hashtag Analysis**"
      ]
    },
    {
      "cell_type": "code",
      "metadata": {
        "id": "mdympWAFh2O3",
        "colab_type": "code",
        "colab": {}
      },
      "source": [
        "def find_hashtags(tweet):\n",
        "    return \", \".join(re.findall(r'#\\w+', tweet)) or None\n",
        "\n",
        "def add_hashtags(df):\n",
        "    df['hashtags'] = df['text'].map(lambda tweet: find_hashtags(tweet))\n",
        "    #df['hashtags'].fillna(value='no', inplace=True)\n",
        "    return df"
      ],
      "execution_count": 0,
      "outputs": []
    },
    {
      "cell_type": "code",
      "metadata": {
        "id": "QnEmYkGT3oov",
        "colab_type": "code",
        "outputId": "c8a0d3e3-99fa-48bb-ccc3-df497ab6bfc1",
        "colab": {
          "base_uri": "https://localhost:8080/",
          "height": 359
        }
      },
      "source": [
        "df = add_hashtags(df)\n",
        "df[['hashtags']].head(10)"
      ],
      "execution_count": 0,
      "outputs": [
        {
          "output_type": "execute_result",
          "data": {
            "text/html": [
              "<div>\n",
              "<style scoped>\n",
              "    .dataframe tbody tr th:only-of-type {\n",
              "        vertical-align: middle;\n",
              "    }\n",
              "\n",
              "    .dataframe tbody tr th {\n",
              "        vertical-align: top;\n",
              "    }\n",
              "\n",
              "    .dataframe thead th {\n",
              "        text-align: right;\n",
              "    }\n",
              "</style>\n",
              "<table border=\"1\" class=\"dataframe\">\n",
              "  <thead>\n",
              "    <tr style=\"text-align: right;\">\n",
              "      <th></th>\n",
              "      <th>hashtags</th>\n",
              "    </tr>\n",
              "  </thead>\n",
              "  <tbody>\n",
              "    <tr>\n",
              "      <th>0</th>\n",
              "      <td>#earthquake</td>\n",
              "    </tr>\n",
              "    <tr>\n",
              "      <th>1</th>\n",
              "      <td>None</td>\n",
              "    </tr>\n",
              "    <tr>\n",
              "      <th>2</th>\n",
              "      <td>None</td>\n",
              "    </tr>\n",
              "    <tr>\n",
              "      <th>3</th>\n",
              "      <td>#wildfires</td>\n",
              "    </tr>\n",
              "    <tr>\n",
              "      <th>4</th>\n",
              "      <td>#Alaska, #wildfires</td>\n",
              "    </tr>\n",
              "    <tr>\n",
              "      <th>5</th>\n",
              "      <td>#RockyFire, #CAfire, #wildfires</td>\n",
              "    </tr>\n",
              "    <tr>\n",
              "      <th>6</th>\n",
              "      <td>#flood, #disaster</td>\n",
              "    </tr>\n",
              "    <tr>\n",
              "      <th>7</th>\n",
              "      <td>None</td>\n",
              "    </tr>\n",
              "    <tr>\n",
              "      <th>8</th>\n",
              "      <td>None</td>\n",
              "    </tr>\n",
              "    <tr>\n",
              "      <th>9</th>\n",
              "      <td>None</td>\n",
              "    </tr>\n",
              "  </tbody>\n",
              "</table>\n",
              "</div>"
            ],
            "text/plain": [
              "                          hashtags\n",
              "0                      #earthquake\n",
              "1                             None\n",
              "2                             None\n",
              "3                       #wildfires\n",
              "4              #Alaska, #wildfires\n",
              "5  #RockyFire, #CAfire, #wildfires\n",
              "6                #flood, #disaster\n",
              "7                             None\n",
              "8                             None\n",
              "9                             None"
            ]
          },
          "metadata": {
            "tags": []
          },
          "execution_count": 11
        }
      ]
    },
    {
      "cell_type": "code",
      "metadata": {
        "id": "V37-Btz24pim",
        "colab_type": "code",
        "outputId": "179d2be3-44ba-4f0a-b52b-85808a9835b3",
        "colab": {
          "base_uri": "https://localhost:8080/",
          "height": 34
        }
      },
      "source": [
        "tweets_w_hash = len([tag for tag in df.hashtags.values if isinstance(tag, str)])\n",
        "print(\"Number of tweets with hashtags: {}, {:.2f}%\".format(tweets_w_hash,\n",
        "                                                           tweets_w_hash/len(df)*100))"
      ],
      "execution_count": 0,
      "outputs": [
        {
          "output_type": "stream",
          "text": [
            "Number of tweets with hashtags: 1743, 22.90%\n"
          ],
          "name": "stdout"
        }
      ]
    },
    {
      "cell_type": "code",
      "metadata": {
        "id": "Vlv40rqmh2GJ",
        "colab_type": "code",
        "outputId": "fa0062f3-ea5b-43b2-903d-633db3ce0d78",
        "colab": {
          "base_uri": "https://localhost:8080/",
          "height": 983
        }
      },
      "source": [
        "stop_1 = set(list(stop)+['#', ','])\n",
        "show_word_distribution(0, 'hashtags', stop_1)\n",
        "show_word_distribution(1, 'hashtags', stop_1)"
      ],
      "execution_count": 0,
      "outputs": [
        {
          "output_type": "stream",
          "text": [
            "Most common words in good tweets\n",
            "            Frequency\n",
            "Word                 \n",
            "nowplaying         21\n",
            "news               20\n",
            "hot                18\n",
            "prebreak           17\n",
            "best               17\n",
            "gbbo               14\n",
            "jobs               14\n",
            "islam              14\n",
            "job                12\n",
            "hiring             10\n",
            "Most common words in disaster tweets\n",
            "            Frequency\n",
            "Word                 \n",
            "news               56\n",
            "hiroshima          22\n",
            "earthquake         19\n",
            "hot                13\n",
            "prebreak           13\n",
            "best               13\n",
            "japan              11\n",
            "india              10\n",
            "yyc                10\n",
            "breaking            9\n"
          ],
          "name": "stdout"
        },
        {
          "output_type": "display_data",
          "data": {
            "image/png": "[encoded data removed]",
            "text/plain": [
              "<Figure size 432x288 with 1 Axes>"
            ]
          },
          "metadata": {
            "tags": []
          }
        },
        {
          "output_type": "display_data",
          "data": {
            "image/png": "[encoded data removed]",
            "text/plain": [
              "<Figure size 432x288 with 1 Axes>"
            ]
          },
          "metadata": {
            "tags": []
          }
        }
      ]
    },
    {
      "cell_type": "markdown",
      "metadata": {
        "id": "qjxB6Cf64_Hp",
        "colab_type": "text"
      },
      "source": [
        "##### **f. KW and Location Analysis**"
      ]
    },
    {
      "cell_type": "code",
      "metadata": {
        "id": "LF54qBym494d",
        "colab_type": "code",
        "outputId": "90733489-987f-4dc6-89f2-d2b04c020197",
        "colab": {
          "base_uri": "https://localhost:8080/",
          "height": 598
        }
      },
      "source": [
        "df.head()"
      ],
      "execution_count": 0,
      "outputs": [
        {
          "output_type": "execute_result",
          "data": {
            "text/html": [
              "<div>\n",
              "<style scoped>\n",
              "    .dataframe tbody tr th:only-of-type {\n",
              "        vertical-align: middle;\n",
              "    }\n",
              "\n",
              "    .dataframe tbody tr th {\n",
              "        vertical-align: top;\n",
              "    }\n",
              "\n",
              "    .dataframe thead th {\n",
              "        text-align: right;\n",
              "    }\n",
              "</style>\n",
              "<table border=\"1\" class=\"dataframe\">\n",
              "  <thead>\n",
              "    <tr style=\"text-align: right;\">\n",
              "      <th></th>\n",
              "      <th>id</th>\n",
              "      <th>keyword</th>\n",
              "      <th>location</th>\n",
              "      <th>text</th>\n",
              "      <th>target</th>\n",
              "      <th>hashtags</th>\n",
              "    </tr>\n",
              "  </thead>\n",
              "  <tbody>\n",
              "    <tr>\n",
              "      <th>0</th>\n",
              "      <td>1</td>\n",
              "      <td>NaN</td>\n",
              "      <td>NaN</td>\n",
              "      <td>Our Deeds are the Reason of this #earthquake M...</td>\n",
              "      <td>1</td>\n",
              "      <td>#earthquake</td>\n",
              "    </tr>\n",
              "    <tr>\n",
              "      <th>1</th>\n",
              "      <td>4</td>\n",
              "      <td>NaN</td>\n",
              "      <td>NaN</td>\n",
              "      <td>Forest fire near La Ronge Sask. Canada</td>\n",
              "      <td>1</td>\n",
              "      <td>None</td>\n",
              "    </tr>\n",
              "    <tr>\n",
              "      <th>2</th>\n",
              "      <td>5</td>\n",
              "      <td>NaN</td>\n",
              "      <td>NaN</td>\n",
              "      <td>All residents asked to 'shelter in place' are ...</td>\n",
              "      <td>1</td>\n",
              "      <td>None</td>\n",
              "    </tr>\n",
              "    <tr>\n",
              "      <th>3</th>\n",
              "      <td>6</td>\n",
              "      <td>NaN</td>\n",
              "      <td>NaN</td>\n",
              "      <td>13,000 people receive #wildfires evacuation or...</td>\n",
              "      <td>1</td>\n",
              "      <td>#wildfires</td>\n",
              "    </tr>\n",
              "    <tr>\n",
              "      <th>4</th>\n",
              "      <td>7</td>\n",
              "      <td>NaN</td>\n",
              "      <td>NaN</td>\n",
              "      <td>Just got sent this photo from Ruby #Alaska as ...</td>\n",
              "      <td>1</td>\n",
              "      <td>#Alaska, #wildfires</td>\n",
              "    </tr>\n",
              "  </tbody>\n",
              "</table>\n",
              "</div>"
            ],
            "text/plain": [
              "   id keyword  ... target             hashtags\n",
              "0   1     NaN  ...      1          #earthquake\n",
              "1   4     NaN  ...      1                 None\n",
              "2   5     NaN  ...      1                 None\n",
              "3   6     NaN  ...      1           #wildfires\n",
              "4   7     NaN  ...      1  #Alaska, #wildfires\n",
              "\n",
              "[5 rows x 6 columns]"
            ]
          },
          "metadata": {
            "tags": []
          },
          "execution_count": 14
        }
      ]
    },
    {
      "cell_type": "code",
      "metadata": {
        "id": "m-gsnUqx4-rD",
        "colab_type": "code",
        "outputId": "9af4ebc8-9038-4b16-b9b8-14244233f5e0",
        "colab": {
          "base_uri": "https://localhost:8080/",
          "height": 139
        }
      },
      "source": [
        "total_kw = len(df) - len(df[df['keyword'].isna()])\n",
        "unique_kw = len({w for w in df.keyword.values if isinstance(w, str)})\n",
        "\n",
        "print('There are {} unique keywords out of {} in total.'.format(unique_kw, total_kw))\n",
        "print('There are {} instances with no keyword'.format(len(df[df['keyword'].isna()])))\n",
        "\n",
        "num_un_loc = len({lc for lc in df.location.values if isinstance(lc, str)})\n",
        "num_no_loc = len(df[df['location'].isna()])\n",
        "num_rows = len(df)\n",
        "print(\"\\nThere are {} rows in total, {} of them have no locations.\\n\\\n",
        "There are {} unique locations\\nLocation is too sparse to be used.\".format(num_rows,\n",
        "                                                                          num_no_loc,\n",
        "                                                                          num_un_loc))"
      ],
      "execution_count": 0,
      "outputs": [
        {
          "output_type": "stream",
          "text": [
            "There are 221 unique keywords out of 7552 in total.\n",
            "There are 61 instances with no keyword\n",
            "\n",
            "There are 7613 rows in total, 2533 of them have no locations.\n",
            "There are 3341 unique locations\n",
            "Location is too sparse to be used.\n"
          ],
          "name": "stdout"
        }
      ]
    },
    {
      "cell_type": "code",
      "metadata": {
        "id": "pm7O12uG4-gi",
        "colab_type": "code",
        "colab": {}
      },
      "source": [
        "df['keyword'] = df['keyword'].map(lambda s: s.replace('%20', \" \") if isinstance(s, str) else s)"
      ],
      "execution_count": 0,
      "outputs": []
    },
    {
      "cell_type": "code",
      "metadata": {
        "id": "UkPnhsOh4-lQ",
        "colab_type": "code",
        "colab": {}
      },
      "source": [
        "positive_kw_count = dict(df[df['target'] == 0].keyword.value_counts())\n",
        "negative_kw_count = dict(df[df['target'] == 1].keyword.value_counts())\n",
        "all_kw_count = dict(df.keyword.value_counts())"
      ],
      "execution_count": 0,
      "outputs": []
    },
    {
      "cell_type": "code",
      "metadata": {
        "id": "bvuEzbK8h2BI",
        "colab_type": "code",
        "outputId": "b18ba942-0f77-4f68-e6be-07e991ff4f29",
        "colab": {
          "base_uri": "https://localhost:8080/",
          "height": 717
        }
      },
      "source": [
        "for kw, _ in sorted(all_kw_count.items(), key=lambda x: x[1], reverse=True)[:10]:\n",
        "    print(\"- Keyword: {}\".format(kw))\n",
        "    print(\"     -> in positive tweets: {}\".format(positive_kw_count.get(kw, None)))\n",
        "    print(\"     -> in negative tweets: {}\\n\".format(negative_kw_count.get(kw, None)))"
      ],
      "execution_count": 0,
      "outputs": [
        {
          "output_type": "stream",
          "text": [
            "- Keyword: fatalities\n",
            "     -> in positive tweets: 19\n",
            "     -> in negative tweets: 26\n",
            "\n",
            "- Keyword: armageddon\n",
            "     -> in positive tweets: 37\n",
            "     -> in negative tweets: 5\n",
            "\n",
            "- Keyword: deluge\n",
            "     -> in positive tweets: 36\n",
            "     -> in negative tweets: 6\n",
            "\n",
            "- Keyword: sinking\n",
            "     -> in positive tweets: 33\n",
            "     -> in negative tweets: 8\n",
            "\n",
            "- Keyword: body bags\n",
            "     -> in positive tweets: 40\n",
            "     -> in negative tweets: 1\n",
            "\n",
            "- Keyword: harm\n",
            "     -> in positive tweets: 37\n",
            "     -> in negative tweets: 4\n",
            "\n",
            "- Keyword: damage\n",
            "     -> in positive tweets: 22\n",
            "     -> in negative tweets: 19\n",
            "\n",
            "- Keyword: collided\n",
            "     -> in positive tweets: 17\n",
            "     -> in negative tweets: 23\n",
            "\n",
            "- Keyword: siren\n",
            "     -> in positive tweets: 35\n",
            "     -> in negative tweets: 5\n",
            "\n",
            "- Keyword: twister\n",
            "     -> in positive tweets: 35\n",
            "     -> in negative tweets: 5\n",
            "\n"
          ],
          "name": "stdout"
        }
      ]
    },
    {
      "cell_type": "code",
      "metadata": {
        "id": "KrCLmVXgMak7",
        "colab_type": "code",
        "colab": {}
      },
      "source": [
        ""
      ],
      "execution_count": 0,
      "outputs": []
    },
    {
      "cell_type": "markdown",
      "metadata": {
        "id": "rWVjHFuGOEpG",
        "colab_type": "text"
      },
      "source": [
        "### Data Cleaning"
      ]
    },
    {
      "cell_type": "code",
      "metadata": {
        "id": "H6HC9bsBMakA",
        "colab_type": "code",
        "colab": {}
      },
      "source": [
        "def clean_data(df, rm_stop=False):\n",
        "\n",
        "    df['text'] = df['text'].str.lower()\n",
        "    # Removing url\n",
        "    def remove_url(tweet):\n",
        "        pattern = re.compile(r'https?://\\S+|www\\.\\S+')\n",
        "        return pattern.sub(' ', tweet)\n",
        "\n",
        "    df['text'] = df['text'].map(lambda tweet: remove_url(tweet))\n",
        "\n",
        "    # Removing html tags\n",
        "    def remove_html_tags(tweet):\n",
        "        pattern = re.compile(r'<.*?>')\n",
        "        return pattern.sub(' ', tweet)\n",
        "\n",
        "    df['text'] = df['text'].map(lambda tweet: remove_html_tags(tweet))\n",
        "\n",
        "    # Removing emojis\n",
        "    # Reference : https://gist.github.com/slowkow/7a7f61f495e3dbb7e3d767f97bd7304b\n",
        "    def remove_emoji(tweet):\n",
        "        emoji_pattern = re.compile(\"[\"\n",
        "                                u\"\\U0001F600-\\U0001F64F\"  # emoticons\n",
        "                                u\"\\U0001F300-\\U0001F5FF\"  # symbols & pictographs\n",
        "                                u\"\\U0001F680-\\U0001F6FF\"  # transport & map symbols\n",
        "                                u\"\\U0001F1E0-\\U0001F1FF\"  # flags (iOS)\n",
        "                                u\"\\U00002702-\\U000027B0\"\n",
        "                                u\"\\U000024C2-\\U0001F251\"\n",
        "                                \"]+\", flags=re.UNICODE)\n",
        "        return emoji_pattern.sub(r'', tweet)\n",
        "\n",
        "    df['text'] = df['text'].map(lambda tweet: remove_emoji(tweet))\n",
        "\n",
        "    # Removing punctuations\n",
        "    def remove_punct(tweet):\n",
        "        table = str.maketrans(' ', ' ', string.punctuation)\n",
        "        return tweet.translate(table)\n",
        "\n",
        "    df['text'] = df['text'].map(lambda tweet: remove_punct(tweet))\n",
        "\n",
        "    # Removing stopwords\n",
        "    def remove_stops(tweet):\n",
        "        stop = stopwords.words('english')\n",
        "        return ' '.join([word for word in tweet.split() if word not in stop])\n",
        "    \n",
        "    if rm_stop:\n",
        "        df['text'] = df['text'].map(lambda tweet: remove_stops(tweet))\n",
        "\n",
        "    return df\n",
        "\n",
        "# df = clean_data(df)\n",
        "\n",
        "# show_word_distribution(0)\n",
        "# show_word_distribution(1)"
      ],
      "execution_count": 0,
      "outputs": []
    },
    {
      "cell_type": "code",
      "metadata": {
        "id": "WnUY1AU4MaI0",
        "colab_type": "code",
        "colab": {}
      },
      "source": [
        ""
      ],
      "execution_count": 0,
      "outputs": []
    },
    {
      "cell_type": "markdown",
      "metadata": {
        "id": "W2bywYhJt0kZ",
        "colab_type": "text"
      },
      "source": [
        "### Model Testing"
      ]
    },
    {
      "cell_type": "markdown",
      "metadata": {
        "id": "qXdO1TyEXjIY",
        "colab_type": "text"
      },
      "source": [
        "1. Baseline Model\n",
        "2. Gradient Boosting\n",
        "3. RNN Model\n",
        "4. Glove LSTM\n",
        "5. BERT TfHub\n",
        "6. SuperLearner Ensemble"
      ]
    },
    {
      "cell_type": "markdown",
      "metadata": {
        "id": "OlseiulpOgaK",
        "colab_type": "text"
      },
      "source": [
        "#### Model Utils"
      ]
    },
    {
      "cell_type": "code",
      "metadata": {
        "id": "fNkjPEjXOlP4",
        "colab_type": "code",
        "colab": {}
      },
      "source": [
        "def get_train_val_sets(rm_stop=False):\n",
        "    df = load_data(train_path)\n",
        "    #df = add_hashtags(df)\n",
        "    df = clean_data(df, rm_stop=rm_stop)\n",
        "\n",
        "    x_train, x_val, y_train, y_val = train_test_split(df.text, df.target,\n",
        "                                                      test_size=1000, random_state=42)\n",
        "    \n",
        "    print(\"Number of training instances: {}\".format(len(x_train)))\n",
        "    print(\"Number of validation instances: {}\".format(len(x_val)))\n",
        "\n",
        "    train_set = (x_train, y_train)\n",
        "    val_set = (x_val, y_val)\n",
        "\n",
        "    return train_set, val_set\n",
        "\n",
        "def get_training_data(rm_stop=False):\n",
        "    df = load_data(train_path)\n",
        "    #df = add_hashtags(df)\n",
        "    df = clean_data(df, rm_stop=rm_stop)\n",
        "\n",
        "    X = df.text.values\n",
        "    Y = df.target.values\n",
        "\n",
        "    return X, Y"
      ],
      "execution_count": 0,
      "outputs": []
    },
    {
      "cell_type": "markdown",
      "metadata": {
        "id": "Tyh5J7YkE2Bz",
        "colab_type": "text"
      },
      "source": [
        "#### Baseline Model"
      ]
    },
    {
      "cell_type": "code",
      "metadata": {
        "id": "28hPnUBrE79J",
        "colab_type": "code",
        "outputId": "5e2835e4-d759-4ff1-f6e7-d9b94c934cbb",
        "colab": {
          "base_uri": "https://localhost:8080/",
          "height": 68
        }
      },
      "source": [
        "from sklearn.linear_model import LogisticRegression\n",
        "from sklearn.feature_extraction.text import TfidfVectorizer\n",
        "from sklearn.pipeline import Pipeline\n",
        "from sklearn.metrics import accuracy_score\n",
        "\n",
        "train_set, test_set = get_train_val_sets()\n",
        "train_X, train_y = train_set\n",
        "test_X, test_y = test_set\n",
        "\n",
        "# tfidf_vectorizer = TfidfVectorizer(\n",
        "#     tokenizer=lambda x: x,\n",
        "#     preprocessor=lambda x: x,\n",
        "#     token_pattern=None\n",
        "# )\n",
        "\n",
        "base_model_pipe = Pipeline([\n",
        "                            ('tfidf', TfidfVectorizer()),\n",
        "                            ('lr', LogisticRegression())\n",
        "                            ])\n",
        "\n",
        "base_model_pipe.fit(train_X, train_y)\n",
        "preds = base_model_pipe.predict(test_X)\n",
        "print(accuracy_score(test_y, preds))"
      ],
      "execution_count": 0,
      "outputs": [
        {
          "output_type": "stream",
          "text": [
            "Number of training instances: 6851\n",
            "Number of validation instances: 762\n",
            "0.7847769028871391\n"
          ],
          "name": "stdout"
        }
      ]
    },
    {
      "cell_type": "markdown",
      "metadata": {
        "id": "LxpzxMStH1r_",
        "colab_type": "text"
      },
      "source": [
        "#### Gradient Boosting"
      ]
    },
    {
      "cell_type": "code",
      "metadata": {
        "id": "sP25rnKyH4vb",
        "colab_type": "code",
        "outputId": "c432a087-6cdb-45f2-c299-d6b7edc4d7d0",
        "colab": {
          "base_uri": "https://localhost:8080/",
          "height": 68
        }
      },
      "source": [
        "from sklearn.ensemble import GradientBoostingClassifier\n",
        "from sklearn.feature_extraction.text import TfidfVectorizer\n",
        "from sklearn.pipeline import Pipeline\n",
        "from sklearn.metrics import accuracy_score\n",
        "\n",
        "train_set, test_set = get_train_val_sets()\n",
        "train_X, train_y = train_set\n",
        "test_X, test_y = test_set\n",
        "\n",
        "# tfidf_vectorizer = TfidfVectorizer(\n",
        "#     tokenizer=lambda x: x,\n",
        "#     preprocessor=lambda x: x,\n",
        "#     token_pattern=None\n",
        "# )\n",
        "\n",
        "gb_clf = Pipeline([\n",
        "                   ('tfidf', TfidfVectorizer()),\n",
        "                   ('gb_clf', GradientBoostingClassifier(n_estimators=300))\n",
        "])\n",
        "\n",
        "gb_clf.fit(train_X, train_y)\n",
        "preds = gb_clf.predict(test_X)\n",
        "print(accuracy_score(test_y, preds))"
      ],
      "execution_count": 0,
      "outputs": [
        {
          "output_type": "stream",
          "text": [
            "Number of training instances: 6851\n",
            "Number of validation instances: 762\n",
            "0.7742782152230971\n"
          ],
          "name": "stdout"
        }
      ]
    },
    {
      "cell_type": "code",
      "metadata": {
        "id": "zHUk-UtJc3vV",
        "colab_type": "code",
        "outputId": "cd40f468-b07f-47b8-f49a-5c3d00a8263c",
        "colab": {
          "base_uri": "https://localhost:8080/",
          "height": 68
        }
      },
      "source": [
        "#XGBoost\n",
        "import xgboost\n",
        "from sklearn.pipeline import Pipeline\n",
        "from sklearn.feature_extraction.text import TfidfVectorizer\n",
        "from sklearn.model_selection import train_test_split\n",
        "from sklearn.metrics import accuracy_score\n",
        "\n",
        "xgbclf_pipe = Pipeline([\n",
        "                        ('tfidf', TfidfVectorizer()),\n",
        "                        ('xgb_clf', xgboost.XGBClassifier(n_estimators=300))\n",
        "])\n",
        "\n",
        "train_set, test_set = get_train_val_sets()\n",
        "train_X, train_y = train_set\n",
        "test_X, test_y = test_set\n",
        "\n",
        "xgbclf_pipe.fit(train_X, train_y)\n",
        "preds = xgbclf_pipe.predict(test_X)\n",
        "print(accuracy_score(test_y, preds))"
      ],
      "execution_count": 0,
      "outputs": [
        {
          "output_type": "stream",
          "text": [
            "Number of training instances: 6851\n",
            "Number of validation instances: 762\n",
            "0.7664041994750657\n"
          ],
          "name": "stdout"
        }
      ]
    },
    {
      "cell_type": "markdown",
      "metadata": {
        "id": "rmjBVxluJaGg",
        "colab_type": "text"
      },
      "source": [
        "#### RNN models"
      ]
    },
    {
      "cell_type": "markdown",
      "metadata": {
        "id": "Ib8tzALVi2-A",
        "colab_type": "text"
      },
      "source": [
        "##### There are two ways of transforming texts into sequences:\n",
        "1. Use a lookup table"
      ]
    },
    {
      "cell_type": "code",
      "metadata": {
        "id": "M-xWGniP3cZ7",
        "colab_type": "code",
        "outputId": "b12d4d66-18b5-4557-fad9-3fc423060af2",
        "colab": {
          "base_uri": "https://localhost:8080/",
          "height": 85
        }
      },
      "source": [
        "# First, let's load the data and split them into train and test sets\n",
        "# using 90% of the data as training set. We're keeping the stopwords\n",
        "# for now.\n",
        "\n",
        "def read_data(rm_stop=False):\n",
        "    df = load_data(train_path)\n",
        "    df = add_hashtags(df)\n",
        "    df = clean_data(df, rm_stop)\n",
        "\n",
        "    train_size = int(len(df)*0.9)\n",
        "\n",
        "    df_train = df.iloc[:train_size]\n",
        "    df_val = df.iloc[train_size:]\n",
        "\n",
        "    print(\"Data size:\")\n",
        "    print(\"-- Training: {} rows\".format(len(df_train)))\n",
        "    print(\"-- Validation: {} rows\".format(len(df_val)))\n",
        "\n",
        "    return df_train, df_val\n",
        "\n",
        "# Then let's create our vocabularies. We create a lookup table\n",
        "# with the words in the training set. The oov words in the \n",
        "# validation set would be assign to the oov buckets.\n",
        "\n",
        "def get_lookup_table():\n",
        "    vocab = Counter()\n",
        "    for text in df_train.text:\n",
        "        words = [w for w in word_tokenize(text)]\n",
        "        vocab.update(words)\n",
        "\n",
        "    un_words = len(vocab.most_common())\n",
        "    print(f'\\nThere are {un_words} unique words in all the tweets!')\n",
        "\n",
        "    vocabulary = [word for word, count in vocab.most_common()]\n",
        "    num_words = len(vocabulary)\n",
        "    num_oov_buckets = 1300\n",
        "\n",
        "    vocabulary = tf.constant(vocabulary)\n",
        "    word_ids = tf.range(num_words, dtype=tf.int64)\n",
        "\n",
        "    table_init = tf.lookup.KeyValueTensorInitializer(vocabulary, word_ids)\n",
        "    table = tf.lookup.StaticVocabularyTable(table_init, num_oov_buckets)\n",
        "    \n",
        "    return table\n",
        "\n",
        "# Create the datasets for training\n",
        "\n",
        "def get_dataset(df):\n",
        "\n",
        "    texts = tf.strings.split(df.text).to_tensor(default_value=b'<pad>')\n",
        "    targets = tf.expand_dims(df.target, -1)\n",
        "\n",
        "    dataset = tf.data.Dataset.from_tensor_slices((texts, targets))\n",
        "    dataset = dataset.shuffle(1024).batch(32)\n",
        "\n",
        "    def encode_words(X_batch, Y_batch):\n",
        "        return table.lookup(X_batch), Y_batch\n",
        "    \n",
        "    dataset = dataset.map(lambda X_batch, Y_batch: encode_words(X_batch, Y_batch)).prefetch(1)\n",
        "    \n",
        "    return dataset\n",
        "\n",
        "df_train, df_val = read_data()\n",
        "\n",
        "table = get_lookup_table()\n",
        "\n",
        "train_set = get_dataset(df_train)\n",
        "val_set = get_dataset(df_val)"
      ],
      "execution_count": 0,
      "outputs": [
        {
          "output_type": "stream",
          "text": [
            "Data size:\n",
            "-- Training: 6851 rows\n",
            "-- Validation: 762 rows\n",
            "There are 16944 unique words in all the tweets!\n"
          ],
          "name": "stdout"
        }
      ]
    },
    {
      "cell_type": "code",
      "metadata": {
        "id": "j1CPqhjp2k2-",
        "colab_type": "code",
        "colab": {}
      },
      "source": [
        "def get_rnn_model():\n",
        "\n",
        "    emb_size = 128\n",
        "    epochs = 5\n",
        "\n",
        "    model = keras.models.Sequential([\n",
        "                                    keras.layers.Embedding(num_words+num_oov_buckets, emb_size, input_shape=[None]),\n",
        "                                    keras.layers.GRU(128, return_sequences=True),\n",
        "                                    keras.layers.GRU(128),\n",
        "                                    keras.layers.Dense(1, activation='sigmoid')\n",
        "    ])\n",
        "\n",
        "    model.compile(loss='binary_crossentropy', optimizer='adam', metrics=['accuracy'])\n",
        "    \n",
        "    return model"
      ],
      "execution_count": 0,
      "outputs": []
    },
    {
      "cell_type": "code",
      "metadata": {
        "id": "EEBMM57csK5K",
        "colab_type": "code",
        "colab": {}
      },
      "source": [
        "model = get_rnn_model()\n",
        "history = model.fit(train, epochs=epochs, validation_data = val_set, verbose=1)"
      ],
      "execution_count": 0,
      "outputs": []
    },
    {
      "cell_type": "code",
      "metadata": {
        "id": "L17H8xl92lGB",
        "colab_type": "code",
        "colab": {}
      },
      "source": [
        "def plot_graphs(history, string):\n",
        "    plt.plot(history.history[string])\n",
        "    plt.plot(history.history['val_'+string], '')\n",
        "    plt.xlabel('Epochs')\n",
        "    plt.ylabel(string)\n",
        "    plt.legend([string, 'val_'+string])\n",
        "    plt.show()\n",
        "\n",
        "plot_graphs(history, 'accuracy')\n",
        "\n",
        "plot_graphs(history, 'loss')"
      ],
      "execution_count": 0,
      "outputs": []
    },
    {
      "cell_type": "markdown",
      "metadata": {
        "id": "xZiWNI8WMXcB",
        "colab_type": "text"
      },
      "source": [
        "Clearly overfitting and performance worse than random guessing(50%).\n",
        "\n",
        "Let's try excluding the stop words."
      ]
    },
    {
      "cell_type": "code",
      "metadata": {
        "id": "n1FqGyoJPv0w",
        "colab_type": "code",
        "outputId": "3f0d350f-0dc1-4639-c360-15b92dc2db9f",
        "colab": {
          "base_uri": "https://localhost:8080/",
          "height": 272
        }
      },
      "source": [
        "df_train, df_val = read_data(rm_stop=True)\n",
        "\n",
        "table = get_lookup_table()\n",
        "\n",
        "train_set = get_dataset(df_train)\n",
        "val_set = get_dataset(df_val)\n",
        "\n",
        "model = get_rnn_model()\n",
        "history = model.fit(train, epochs=epochs, validation_data = val_set, verbose=1)\n",
        "\n",
        "plot_graphs(history, 'accuracy')\n",
        "\n",
        "plot_graphs(history, 'loss')"
      ],
      "execution_count": 0,
      "outputs": [
        {
          "output_type": "stream",
          "text": [
            "Data size:\n",
            "-- Training: 6851 rows\n",
            "-- Validation: 762 rows\n",
            "There are 16816 unique words in all the tweets!\n",
            "Train for 238 steps, validate for 24 steps\n",
            "Epoch 1/5\n",
            "238/238 [==============================] - 23s 97ms/step - loss: 0.6844 - accuracy: 0.5681 - val_loss: 0.6909 - val_accuracy: 0.5341\n",
            "Epoch 2/5\n",
            "238/238 [==============================] - 20s 82ms/step - loss: 0.5583 - accuracy: 0.7136 - val_loss: 0.7201 - val_accuracy: 0.5761\n",
            "Epoch 3/5\n",
            "238/238 [==============================] - 20s 84ms/step - loss: 0.3172 - accuracy: 0.8797 - val_loss: 0.8869 - val_accuracy: 0.5630\n",
            "Epoch 4/5\n",
            "238/238 [==============================] - 20s 83ms/step - loss: 0.1831 - accuracy: 0.9345 - val_loss: 1.1427 - val_accuracy: 0.5617\n",
            "Epoch 5/5\n",
            "238/238 [==============================] - 20s 83ms/step - loss: 0.1117 - accuracy: 0.9631 - val_loss: 1.5841 - val_accuracy: 0.5643\n"
          ],
          "name": "stdout"
        }
      ]
    },
    {
      "cell_type": "markdown",
      "metadata": {
        "id": "ryEZGj6yT3aZ",
        "colab_type": "text"
      },
      "source": [
        "Removing stopwords slightly improved the performance of the model though overfitting the training data and it's till not good enough. (0.4672 vs. 0.5643)"
      ]
    },
    {
      "cell_type": "markdown",
      "metadata": {
        "id": "E_0AdskWWhzY",
        "colab_type": "text"
      },
      "source": [
        "##### Next, let's try transforming texts into sequences using\n",
        "2. Tokenizers"
      ]
    },
    {
      "cell_type": "code",
      "metadata": {
        "id": "Bzfp0sNRIcXN",
        "colab_type": "code",
        "outputId": "f9347dd5-1eea-4754-d146-7578550bf0ad",
        "colab": {
          "base_uri": "https://localhost:8080/",
          "height": 119
        }
      },
      "source": [
        "# Before dive into Tokenizing the texts, we need to know how many words\n",
        "# should be used in that tokenizer and later when padding the sequences,\n",
        "# we also need to know what should be the length of each sequence.\n",
        "# Let's take look at what's maximum number of words in all the tweets.\n",
        "\n",
        "# Here we are converting each tweet into their number of words\n",
        "\n",
        "df_train, df_val = read_data()\n",
        "n_words = df_train.text.str.split().map(lambda x: len(x))\n",
        "\n",
        "print(f\"\\nThe max number of words in all tweets is {max(n_words)}\")\n",
        "print(\"Should we set this number as the dimension for our sequences when training?\")"
      ],
      "execution_count": 0,
      "outputs": [
        {
          "output_type": "stream",
          "text": [
            "Data size:\n",
            "-- Training: 6851 rows\n",
            "-- Validation: 762 rows\n",
            "\n",
            "The max number of words in all tweets is 31\n",
            "Should we set this number as the dimension for our sequences when training?\n"
          ],
          "name": "stdout"
        }
      ]
    },
    {
      "cell_type": "code",
      "metadata": {
        "id": "3iKi7Ipd8MJV",
        "colab_type": "code",
        "outputId": "b5c0a937-f1ee-4a95-bbcd-f4c62068e895",
        "colab": {
          "base_uri": "https://localhost:8080/",
          "height": 68
        }
      },
      "source": [
        "# There are about 17,000 unique words in the training set, let's use\n",
        "# num_words = 10000\n",
        "\n",
        "num_words = 10000\n",
        "max_len = 31\n",
        "batch_size = 32\n",
        "\n",
        "def get_tokenized_data():\n",
        "    df_train, df_val = read_data(rm_stop=True)\n",
        "    \n",
        "    tokenizer = Tokenizer(num_words = num_words)\n",
        "    tokenizer.fit_on_texts(df_train.text)\n",
        "\n",
        "    df = pd.concat([df_train, df_val])\n",
        "\n",
        "    X = df.text\n",
        "\n",
        "    le = LabelEncoder()\n",
        "    Y = le.fit_transform(df.target)\n",
        "    Y = Y.reshape(-1, 1)\n",
        "\n",
        "    seq = tokenizer.texts_to_sequences(X)\n",
        "    seq = pad_sequences(seq, maxlen=max_len, padding='post')\n",
        "\n",
        "    return seq, Y\n",
        "\n",
        "seq, Y = get_tokenized_data()\n",
        "\n",
        "model = get_rnn_model()"
      ],
      "execution_count": 0,
      "outputs": [
        {
          "output_type": "stream",
          "text": [
            "Data size:\n",
            "-- Training: 6851 rows\n",
            "-- Validation: 762 rows\n"
          ],
          "name": "stdout"
        }
      ]
    },
    {
      "cell_type": "code",
      "metadata": {
        "id": "4pZUzzNbPwU8",
        "colab_type": "code",
        "outputId": "d064facf-daad-4458-e56b-de0b324e86df",
        "colab": {
          "base_uri": "https://localhost:8080/",
          "height": 204
        }
      },
      "source": [
        "history = model.fit(x=seq, y=Y, epochs=epochs, batch_size=batch_size, validation_split=0.1, verbose=1)"
      ],
      "execution_count": 0,
      "outputs": [
        {
          "output_type": "stream",
          "text": [
            "Train on 6851 samples, validate on 762 samples\n",
            "Epoch 1/5\n",
            "6851/6851 [==============================] - 19s 3ms/sample - loss: 0.6840 - accuracy: 0.5744 - val_loss: 0.7083 - val_accuracy: 0.5341\n",
            "Epoch 2/5\n",
            "6851/6851 [==============================] - 15s 2ms/sample - loss: 0.5992 - accuracy: 0.6707 - val_loss: 0.5356 - val_accuracy: 0.7533\n",
            "Epoch 3/5\n",
            "6851/6851 [==============================] - 16s 2ms/sample - loss: 0.4148 - accuracy: 0.8298 - val_loss: 0.4805 - val_accuracy: 0.7940\n",
            "Epoch 4/5\n",
            "6851/6851 [==============================] - 16s 2ms/sample - loss: 0.3451 - accuracy: 0.8640 - val_loss: 0.8310 - val_accuracy: 0.6562\n",
            "Epoch 5/5\n",
            "6851/6851 [==============================] - 16s 2ms/sample - loss: 0.3075 - accuracy: 0.8803 - val_loss: 0.4811 - val_accuracy: 0.7664\n"
          ],
          "name": "stdout"
        }
      ]
    },
    {
      "cell_type": "code",
      "metadata": {
        "id": "-ZmAp8sqPwT0",
        "colab_type": "code",
        "outputId": "fcbfd025-da78-4fe3-b9b3-2ef3d1030168",
        "colab": {
          "base_uri": "https://localhost:8080/",
          "height": 279
        }
      },
      "source": [
        "plot_graphs(history, 'accuracy')"
      ],
      "execution_count": 0,
      "outputs": [
        {
          "output_type": "display_data",
          "data": {
            "image/png": "[encoded data removed]",
            "text/plain": [
              "<Figure size 432x288 with 1 Axes>"
            ]
          },
          "metadata": {
            "tags": []
          }
        }
      ]
    },
    {
      "cell_type": "code",
      "metadata": {
        "id": "7ZLak9adC_Xx",
        "colab_type": "code",
        "colab": {}
      },
      "source": [
        "plot_graphs(history, 'loss')"
      ],
      "execution_count": 0,
      "outputs": []
    },
    {
      "cell_type": "markdown",
      "metadata": {
        "id": "g9Zmd0u6JoK1",
        "colab_type": "text"
      },
      "source": [
        "#### BERT TfHub"
      ]
    },
    {
      "cell_type": "markdown",
      "metadata": {
        "id": "bSVAnbZkKO-M",
        "colab_type": "text"
      },
      "source": [
        "Creating the model for text classification:\n",
        "\n",
        "The BERT layer takes 3 input arguments:\n",
        "\n",
        "    1. input_word_ids: sequence of word tokens\n",
        "    2. input_mask: masking the paddings\n",
        "    3. segment_ids: used to identify either of the input sentences\n",
        "\n",
        "The BERT output consists of \n",
        "\n",
        "    1. pooled_output, a condensed sequence representation. And\n",
        "    2. sequence_output, the entire encoding of the input.\n",
        "\n",
        "We take the sequence output and pass it to a single-unit dense layer for classification.\n",
        "\n",
        "BERT is pre-trained on a large text corpus and it has generated its own vocabulary. We use its own tokenizer to tokenize our sentences.\n",
        "\n",
        "Note: Sentences always start with '[CLS]' token and it's embedding is used as a sentence-level representation(sequence_output[:, 0, :])."
      ]
    },
    {
      "cell_type": "code",
      "metadata": {
        "id": "gxoaDFQk8MAJ",
        "colab_type": "code",
        "outputId": "e0ba3eeb-9b8b-440d-bb02-5e32199e588f",
        "colab": {
          "base_uri": "https://localhost:8080/",
          "height": 496
        }
      },
      "source": [
        "!pip install bert-for-tf2\n",
        "!pip install sentencepiece\n",
        "\n",
        "import bert\n",
        "FullTokenizer = bert.bert_tokenization.FullTokenizer"
      ],
      "execution_count": 0,
      "outputs": [
        {
          "output_type": "stream",
          "text": [
            "Collecting bert-for-tf2\n",
            "\u001b[?25l  Downloading https://files.pythonhosted.org/packages/75/15/03314e558f4c34642a90144fc8ec8bdbb0ef3c2ca80345007f9c7b007a07/bert-for-tf2-0.13.4.tar.gz (40kB)\n",
            "\r\u001b[K     |████████▏                       | 10kB 29.4MB/s eta 0:00:01\r\u001b[K     |████████████████▎               | 20kB 1.7MB/s eta 0:00:01\r\u001b[K     |████████████████████████▍       | 30kB 2.5MB/s eta 0:00:01\r\u001b[K     |████████████████████████████████| 40kB 2.3MB/s \n",
            "\u001b[?25hCollecting py-params>=0.7.3\n",
            "  Downloading https://files.pythonhosted.org/packages/ec/17/71c5f3c0ab511de96059358bcc5e00891a804cd4049021e5fa80540f201a/py-params-0.8.2.tar.gz\n",
            "Collecting params-flow>=0.7.1\n",
            "  Downloading https://files.pythonhosted.org/packages/0d/12/2604f88932f285a473015a5adabf08496d88dad0f9c1228fab1547ccc9b5/params-flow-0.7.4.tar.gz\n",
            "Requirement already satisfied: numpy in /tensorflow-2.1.0/python3.6 (from params-flow>=0.7.1->bert-for-tf2) (1.18.1)\n",
            "Requirement already satisfied: tqdm in /usr/local/lib/python3.6/dist-packages (from params-flow>=0.7.1->bert-for-tf2) (4.28.1)\n",
            "Building wheels for collected packages: bert-for-tf2, py-params, params-flow\n",
            "  Building wheel for bert-for-tf2 (setup.py) ... \u001b[?25l\u001b[?25hdone\n",
            "  Created wheel for bert-for-tf2: filename=bert_for_tf2-0.13.4-cp36-none-any.whl size=29944 sha256=3d1a3d4b9f91130f34a7d6f52e9c28cafe5f29051469a93b5c0cca24632464ec\n",
            "  Stored in directory: /root/.cache/pip/wheels/d1/14/6d/b36f1618f939480ce5baa48e4d918ea00669f1cbbec4419514\n",
            "  Building wheel for py-params (setup.py) ... \u001b[?25l\u001b[?25hdone\n",
            "  Created wheel for py-params: filename=py_params-0.8.2-cp36-none-any.whl size=4635 sha256=605662a06da2198fe7385aa2518318bdd6d3e47d18994365787b2cfc8dda26b0\n",
            "  Stored in directory: /root/.cache/pip/wheels/83/3a/9c/baf35d6f17f0c2c6b61bf8ac3ab9fc12df0e41432ccaeecacb\n",
            "  Building wheel for params-flow (setup.py) ... \u001b[?25l\u001b[?25hdone\n",
            "  Created wheel for params-flow: filename=params_flow-0.7.4-cp36-none-any.whl size=16195 sha256=9e117aff903d51fbdda7b4035902d9c57c64fbb6b434f82f737f1786c03f1367\n",
            "  Stored in directory: /root/.cache/pip/wheels/86/30/40/507b60d68b67ac87f35e95c98f5b296a32f146d5ae1d1d5aa7\n",
            "Successfully built bert-for-tf2 py-params params-flow\n",
            "Installing collected packages: py-params, params-flow, bert-for-tf2\n",
            "Successfully installed bert-for-tf2-0.13.4 params-flow-0.7.4 py-params-0.8.2\n",
            "Collecting sentencepiece\n",
            "\u001b[?25l  Downloading https://files.pythonhosted.org/packages/74/f4/2d5214cbf13d06e7cb2c20d84115ca25b53ea76fa1f0ade0e3c9749de214/sentencepiece-0.1.85-cp36-cp36m-manylinux1_x86_64.whl (1.0MB)\n",
            "\u001b[K     |████████████████████████████████| 1.0MB 2.6MB/s \n",
            "\u001b[?25hInstalling collected packages: sentencepiece\n",
            "Successfully installed sentencepiece-0.1.85\n"
          ],
          "name": "stdout"
        }
      ]
    },
    {
      "cell_type": "code",
      "metadata": {
        "id": "y7W_qhjV8L_L",
        "colab_type": "code",
        "colab": {}
      },
      "source": [
        "def get_bert_layer_tokenizer():\n",
        "    # Creating the bert layer\n",
        "    # module_url = \"https://tfhub.dev/tensorflow/bert_en_uncased_L-12_H-768_A-12/1\"\n",
        "    module_url = \"https://tfhub.dev/tensorflow/bert_en_uncased_L-24_H-1024_A-16/1\"\n",
        "    bert_layer = hub.KerasLayer(module_url, trainable=True)\n",
        "\n",
        "    # Instantiating BERT Tokenizer\n",
        "    vocab_file = bert_layer.resolved_object.vocab_file.asset_path.numpy()\n",
        "    do_lower_case = bert_layer.resolved_object.do_lower_case.numpy()\n",
        "    tokenizer = FullTokenizer(vocab_file, do_lower_case)\n",
        "    return bert_layer, tokenizer\n",
        "\n",
        "def get_tokens(tweet, tokenizer):\n",
        "    tokens = tokenizer.tokenize(tweet)\n",
        "    return [\"[CLS]\"] + tokens + [\"[SEP]\"]\n",
        "\n",
        "def get_ids(tokens, tokenizer, max_seq_length=160):\n",
        "    if len(tokens)>max_seq_length:\n",
        "        raise IndexError(\"Token length more than max seq length\")\n",
        "\n",
        "    token_ids = tokenizer.convert_tokens_to_ids(tokens)\n",
        "    input_ids = token_ids + [0] * (max_seq_length - len(token_ids))\n",
        "    \n",
        "    return input_ids\n",
        "\n",
        "def get_masks(tokens, max_seq_length=160):\n",
        "    if len(tokens)>max_seq_length:\n",
        "        raise IndexError(\"Token length more than max seq length\")\n",
        "\n",
        "    return [1] * len(tokens) + [0] * (max_seq_length - len(tokens))\n",
        "\n",
        "def get_segments(tokens, max_seq_length=160):\n",
        "    if len(tokens)>max_seq_length:\n",
        "        raise IndexError(\"Token length more than max seq length\")\n",
        "\n",
        "    segments = []\n",
        "    current_segment_id = 0\n",
        "    for token in tokens:\n",
        "        segments.append(current_segment_id)\n",
        "        if token == '[SEP]':\n",
        "            current_segment_id = 1\n",
        "\n",
        "    return segments + [0] * (max_seq_length - len(tokens))\n",
        "\n",
        "def bert_encode(X, tokenizer):\n",
        "    token_ids = []\n",
        "    token_masks= []\n",
        "    token_segments = []\n",
        "\n",
        "    for text in X:\n",
        "        tokens = get_tokens(text, tokenizer)\n",
        "\n",
        "        token_id = get_ids(tokens, tokenizer)\n",
        "        token_mask = get_masks(tokens)\n",
        "        token_segment = get_segments(tokens)\n",
        "\n",
        "        token_ids.append(token_id)\n",
        "        token_masks.append(token_mask)\n",
        "        token_segments.append(token_segment)\n",
        "\n",
        "    return np.array(token_ids), np.array(token_masks), np.array(token_segments)\n",
        "\n",
        "# def preprocessing_data(texts):\n",
        "#     tokens = texts.map(lambda tweet: get_tokens(tweet))\n",
        "\n",
        "#     token_ids = tokens.map(lambda tweet: np.array(get_ids(tweet)))\n",
        "#     token_masks = tokens.map(lambda tweet: np.array(get_masks(tweet)))\n",
        "#     token_segments = tokens.map(lambda tweet: np.array(get_segments(tweet)))\n",
        "\n",
        "#     return np.array(token_ids), np.array(token_masks), np.array(token_segments)"
      ],
      "execution_count": 0,
      "outputs": []
    },
    {
      "cell_type": "code",
      "metadata": {
        "id": "u4hhJxinnCVb",
        "colab_type": "code",
        "colab": {}
      },
      "source": [
        "def bert_model(bert_layer, max_seq_length = 512):\n",
        "    input_word_ids = keras.layers.Input(shape=(max_seq_length,), dtype=tf.int32,\n",
        "                                        name=\"input_word_ids\")\n",
        "    input_mask = keras.layers.Input(shape=(max_seq_length,), dtype=tf.int32,\n",
        "                                    name=\"input_mask\")\n",
        "    segment_ids = keras.layers.Input(shape=(max_seq_length,), dtype=tf.int32,\n",
        "                                        name=\"segment_ids\")\n",
        "    # bert_layer = hub.KerasLayer(\"https://tfhub.dev/tensorflow/bert_en_uncased_L-12_H-768_A-12/1\",\n",
        "    #                             trainable=True)\n",
        "    pooled_output, sequence_output = bert_layer([input_word_ids, input_mask, segment_ids])\n",
        "    \n",
        "    '''\n",
        "    x = keras.layers.Bidirectional(keras.layers.LSTM(64))(sequence_output)\n",
        "    x = keras.layers.Dropout(0.1)(x)\n",
        "    x = keras.layers.Dense(32, activation='relu')(x)\n",
        "    x = keras.layers.Dropout(0.1)(x)\n",
        "    x = keras.layers.Dense(1, activation='softmax')(x)\n",
        "    '''\n",
        "    \n",
        "    kernel_size = 5\n",
        "    filters = 64\n",
        "    pool_size = 4\n",
        "    \n",
        "    x = keras.layers.Dropout(0.1)(sequence_output)\n",
        "    x = keras.layers.Conv1D(filters,\n",
        "                            kernel_size,\n",
        "                            padding='valid',\n",
        "                            activation='relu',\n",
        "                            strides=1)(x)\n",
        "    x = keras.layers.MaxPooling1D(pool_size=pool_size)(x)\n",
        "    x = keras.layers.Bidirectional(tf.keras.layers.LSTM(64))(x)\n",
        "    out = keras.layers.Dense(1, activation=\"sigmoid\")(x)\n",
        "    model = keras.models.Model(inputs=[input_word_ids, input_mask, segment_ids], outputs=out)\n",
        "    \n",
        "    opt = keras.optimizers.Adam(lr=1e-5)\n",
        "    model.compile(optimizer=opt, loss='binary_crossentropy', metrics=['accuracy'])\n",
        "    \n",
        "    return model"
      ],
      "execution_count": 0,
      "outputs": []
    },
    {
      "cell_type": "code",
      "metadata": {
        "id": "b3z532iPjo_5",
        "colab_type": "code",
        "colab": {}
      },
      "source": [
        "batch_size = 16\n",
        "epochs = 20\n",
        "\n",
        "X, Y = get_training_data()\n",
        "bert_layer, tokenizer = get_bert_layer_tokenizer()\n",
        "X = bert_encode(X, tokenizer)\n",
        "\n",
        "bert = bert_model(bert_layer)\n",
        "bert_summary()\n",
        "\n",
        "early_stopping = tf.keras.callbacks.EarlyStopping(\n",
        "    monitor='val_accuracy', \n",
        "    verbose=1,\n",
        "    patience=4,\n",
        "    mode='max',\n",
        "    restore_best_weights=True)\n",
        "\n",
        "history = bert.fit(X, Y, batch_size=batch_size, epochs=1, validation_split=0.15, callbacks=[early_stopping])"
      ],
      "execution_count": 0,
      "outputs": []
    },
    {
      "cell_type": "code",
      "metadata": {
        "id": "8GI25n5-17gK",
        "colab_type": "code",
        "colab": {}
      },
      "source": [
        ""
      ],
      "execution_count": 0,
      "outputs": []
    },
    {
      "cell_type": "markdown",
      "metadata": {
        "id": "0qU6Ab8aU6Cn",
        "colab_type": "text"
      },
      "source": [
        "##### BERT Tamnun ML"
      ]
    },
    {
      "cell_type": "code",
      "metadata": {
        "id": "gevhsE5xU4eB",
        "colab_type": "code",
        "outputId": "ff210e7a-f8e4-498c-d11c-592f6d120195",
        "colab": {
          "base_uri": "https://localhost:8080/",
          "height": 204
        }
      },
      "source": [
        "#!pip install tamnun\n",
        "from tamnun.bert import BertClassifier, BertVectorizer\n",
        "\n",
        "from sklearn.pipeline import Pipeline\n",
        "from sklearn.model_selection import train_test_split\n",
        "from sklearn.metrics import accuracy_score\n",
        "\n",
        "bert_tamnun = Pipeline([\n",
        "                        ('bert_vec', BertVectorizer()),\n",
        "                        ('bert_clf', BertClassifier(num_of_classes=2))\n",
        "])\n",
        "\n",
        "X, y = get_training_data()\n",
        "train_X, test_X, train_y, test_y = train_test_split(X, y, test_size=1000, random_state=42)\n",
        "\n",
        "bert_tamnun.fit(train_X, train_y)\n",
        "preds = bert_tamnun.predict(test_X)\n",
        "print(accuracy_score(test_y, preds))"
      ],
      "execution_count": 0,
      "outputs": [
        {
          "output_type": "stream",
          "text": [
            "Epoch 1/5:\n",
            "1653/1654 batch loss: 1.046263575553894 avg loss: 0.7602737967505997\n",
            "Epoch 2/5:\n",
            "1653/1654 batch loss: 0.6653088331222534 avg loss: 0.7609784273383406\n",
            "Epoch 3/5:\n",
            "1653/1654 batch loss: 0.6995300054550171 avg loss: 0.7758783956825228\n",
            "Epoch 4/5:\n",
            "1653/1654 batch loss: 0.5239039659500122 avg loss: 0.7662143060056877\n",
            "Epoch 5/5:\n",
            "1653/1654 batch loss: 0.2842283546924591 avg loss: 0.7487616022325773\n",
            "0.574\n"
          ],
          "name": "stdout"
        }
      ]
    },
    {
      "cell_type": "markdown",
      "metadata": {
        "id": "P1wt0xPndLQG",
        "colab_type": "text"
      },
      "source": [
        "#### SuperLearner Ensemble"
      ]
    },
    {
      "cell_type": "code",
      "metadata": {
        "id": "2hwb3Qum8LUk",
        "colab_type": "code",
        "colab": {}
      },
      "source": [
        "# !pip install tamnun\n",
        "# from tamnun.bert import BertClassifier, BertVectorizer\n",
        "\n",
        "!pip install bert-for-tf2\n",
        "!pip install sentencepiece\n",
        "import bert\n",
        "FullTokenizer = bert.bert_tokenization.FullTokenizer\n",
        "\n",
        "from sklearn.linear_model import LogisticRegression\n",
        "from sklearn.tree import DecisionTreeClassifier\n",
        "from sklearn.naive_bayes import GaussianNB\n",
        "from sklearn.neighbors import KNeighborsClassifier\n",
        "from sklearn.svm import SVC\n",
        "from sklearn.ensemble import BaggingClassifier\n",
        "from sklearn.ensemble import RandomForestClassifier\n",
        "from sklearn.ensemble import ExtraTreesClassifier\n",
        "from sklearn.ensemble import AdaBoostClassifier\n",
        "from sklearn.ensemble import GradientBoostingClassifier\n",
        "\n",
        "from sklearn.feature_extraction import TfidfVectorizer\n",
        "from sklearn.base import TransformerMixin\n",
        "from sklearn.pipeline import Pipeline\n",
        "from sklearn.model_selection import train_test_split\n",
        "from sklearn.model_selection import KFold\n",
        "from sklearn.metrics import accuracy\n",
        "\n",
        "\n",
        "class ToDense(TransformerMixin):\n",
        "    def fit(self, X, y=None, **fit_params):\n",
        "        return self\n",
        "    \n",
        "    def transform(self, X, y=None, **fit_params):\n",
        "        return X.toarray()\n",
        "\n",
        "def get_ensemble():\n",
        "    tfidf_vectorizer = TfidfVectorizer(\n",
        "        preprocessor=lambda x: x,\n",
        "        tokenizer=lambda x: x,\n",
        "        token_pattern=None\n",
        "    )\n",
        "\n",
        "    lr_pipe = Pipeline([('tfidf', tfidf_vectorizer), ('lr', LogisticRegression())])\n",
        "    tree_pipe = Pipeline([('tfidf', tfidf_vectorizer), ('dt', DecisionTreeClassifier())])\n",
        "    gaus_pipe = Pipeline([('tfidf', tfidf_vectorizer), ('to_dense', ToDense()), ('gaus', GaussianNB())])\n",
        "    kn_pipe = Pipeline([('tfidf', tfidf_vectorizer), ('kn', KNeighborsClassifier())])\n",
        "    svm_pipe = Pipeline([('tfidf', tfidf_vectorizer), ('svm', SVC(gamma='scale', probability=True))])\n",
        "    bag_pipe = Pipeline([('tfidf', tfidf_vectorizer), ('bag', BaggingClassifier(n_estimators=10))])\n",
        "    rf_pipe = Pipeline([('tfidf', tfidf_vectorizer), ('rf', RandomForestClassifier(n_estimators=10))])\n",
        "    et_pipe = Pipeline([('tfidf', tfidf_vectorizer), ('et', ExtraTreesClassifier(n_estimatos=10))])\n",
        "    ada_pipe = Pipeline([('tfidf', tfidf_vectorizer), ('ada', AdaBoostClassifier(n_estimators=10))])\n",
        "    gb_pipe = Pipeline([('tfidf', TfidfVectorizer()),('gb', GradientBoostingClassifier(n_estimators=100))])\n",
        "    # bert_pipe = Pipeline([('bert_vec' BertVectorizer(), ('bert_clf', BertClassifier(num_classes=2)))])\n",
        "\n",
        "    bert_layer, tokenizer = get_bert_layer_tokenizer()\n",
        "    bert_model = bert_model(bert_layer)\n",
        "    bert_model.summary()\n",
        "\n",
        "    ensemble = list()\n",
        "    # ensemble.append(bert_pipe)\n",
        "    ensemble.append(bert_model)\n",
        "    ensemble.append(lr_pipe)\n",
        "    ensemble.append(tree_pipe)\n",
        "    ensemble.append(gaus_pipe)\n",
        "    ensemble.append(kn_pipe)\n",
        "    ensemble.append(svm_pipe)\n",
        "    ensemble.append(bag_pipe)\n",
        "    ensemble.append(rf_pipe)\n",
        "    ensemble.append(et_pipe)\n",
        "    ensemble.append(ada_pipe)\n",
        "    ensemble.append(gb_pipe)\n",
        "    \n",
        "    return ensemble\n",
        "\n",
        "def get_meta_data(ensemble, X, y):\n",
        "    kfold = KFold(n_splits=5, shuffle=True)\n",
        "    meta_X, meta_y = list(), list()\n",
        "    \n",
        "    for train_ids, test_ids in kfold.split(X):\n",
        "        yhat = list()\n",
        "        \n",
        "        train_X, train_y = X[train_ids], y[train_ids]\n",
        "        test_X, test_y = X[test_ids], test_y[test_ids]\n",
        "        \n",
        "        meta_y.extend(test_y)\n",
        "        \n",
        "        for num, model in enumerate(ensembel):\n",
        "            if num == 0:\n",
        "                train_X = bert_encode(train_X)\n",
        "                test_X = bert_encode(test_X)\n",
        "                \n",
        "                early_stopping = tf.keras.callbacks.EarlyStopping(\n",
        "                    monitor='val_accuracy', \n",
        "                    verbose=1,\n",
        "                    patience=4,\n",
        "                    mode='max',\n",
        "                    restore_best_weights=True)\n",
        "                \n",
        "                model.fit(train_X, train_y, batch_size=16, epochs=10,\n",
        "                          validation_split=0.25, callbacks=[early_stopping])\n",
        "                preds = model.predict(test_X)\n",
        "                _y = list()\n",
        "                for t in preds:\n",
        "                    one_prob = t[0]\n",
        "                    zero_prob = 1 - one_prob\n",
        "                    _y.append([zero_prob, one_prob])\n",
        "                preds = np.asarray(_y)\n",
        "            else:\n",
        "                model.fit(train_X, train_y)\n",
        "                preds = model.predict_proba(test_X)\n",
        "            \n",
        "            yhat.append(preds)\n",
        "\n",
        "        meta_X.append(np.hstack(yhat))\n",
        "    \n",
        "    return np.vstack(meta_X), np.asarray(meta_y)\n",
        "\n",
        "def fit_ensemble(ensemble, X, y):\n",
        "    for num, model in enumerate(ensemble):\n",
        "        if num == 0:\n",
        "            X = bert_encode(X)\n",
        "            early_stopping = tf.keras.callbacks.EarlyStopping(\n",
        "                    monitor='val_accuracy', \n",
        "                    verbose=1,\n",
        "                    patience=4,\n",
        "                    mode='max',\n",
        "                    restore_best_weights=True)\n",
        "                \n",
        "            model.fit(train_X, train_y, batch_size=16, epochs=10,\n",
        "                      validation_split=0.10, callbacks=[early_stopping])\n",
        "        else:\n",
        "            model.fit(X, y)\n",
        "    \n",
        "def fit_blender(meta_X, meta_y):\n",
        "    blender = ExtraTreesClassifier(n_estimators=30)\n",
        "    blender.fit(meta_X, meta_y)\n",
        "    return blender\n",
        "\n",
        "def ensemble_prediction(ensemble, blender, X):\n",
        "    meta_X = list()\n",
        "    for num, model in enumerate(ensemble):\n",
        "        if num == 0:\n",
        "            preds = model.predict(X)\n",
        "            _y = list()\n",
        "            for t in preds:\n",
        "                one_prob = t[0]\n",
        "                zero_prob = 1 - one_prob\n",
        "                _y.append([zero_prob, one_prob])\n",
        "            preds = np.asarray(_y)\n",
        "        else:\n",
        "            preds = model.predict_proba(X)\n",
        "        meta_X.append(preds)\n",
        "    meta_X = np.hstack(meta_X)\n",
        "    return blender.predict(meta_x)\n"
      ],
      "execution_count": 0,
      "outputs": []
    },
    {
      "cell_type": "code",
      "metadata": {
        "id": "5a-1RWIpuyLx",
        "colab_type": "code",
        "colab": {}
      },
      "source": [
        "X, y = get_training_data()\n",
        "\n",
        "train_X, test_X, train_y, test_y = train_test_split(X, y, test_size=1000, random_state=42)\n",
        "\n",
        "ensemble = get_ensemble()\n",
        "\n",
        "meta_X, meta_y = get_meta_data(ensemble, train_X, train_y)\n",
        "print('Meta data: ', meta_X.shape)\n",
        "\n",
        "fit_ensemble(ensemble, train_X, train_y)\n",
        "\n",
        "blender = fit_blender(meta_X, meta_y)\n",
        "\n",
        "test_preds = ensemble_prediction(ensemble, blender, test_X)\n",
        "\n",
        "print(accuracy_score(train_y, test_preds))"
      ],
      "execution_count": 0,
      "outputs": []
    },
    {
      "cell_type": "code",
      "metadata": {
        "id": "kjdLugI8MZ65",
        "colab_type": "code",
        "colab": {}
      },
      "source": [
        "X, y = get_training_data()\n",
        "\n",
        "train_X, test_X, train_y, test_y = train_test_split(X, y, test_size=1000, random_state=42)\n",
        "\n",
        "estimators = [\n",
        "              ('rf', make_pipeline(TfidfVectorizer(), RandomForestClassifier())),\n",
        "              ('bg', make_pipeline(TfidfVectorizer(), BaggingClassifier())),\n",
        "              ('gb', make_pipeline(TfidfVectorizer(), GradientBoostingClassifier())),\n",
        "              ('ada', make_pipeline(TfidfVectorizer(), AdaBoostClassifier())),\n",
        "              ('et', make_pipeline(TfidfVectorizer(), ExtraTreesClassifier())),\n",
        "              ('bert', make_pipeline(BertVectorizer(), BertClassifier(num_of_classes=2)))\n",
        "]\n",
        "\n",
        "clf = StackingClassifier(\n",
        "    estimators=estimators, final_estimator=LogisticRegression()\n",
        ")\n",
        "\n",
        "clf.fit(train_X, train_y).score(test_X, test_y)"
      ],
      "execution_count": 0,
      "outputs": []
    },
    {
      "cell_type": "code",
      "metadata": {
        "id": "KqVRpSOcDL4g",
        "colab_type": "code",
        "colab": {}
      },
      "source": [
        ""
      ],
      "execution_count": 0,
      "outputs": []
    },
    {
      "cell_type": "code",
      "metadata": {
        "id": "hEWJH_YLDMHI",
        "colab_type": "code",
        "colab": {}
      },
      "source": [
        ""
      ],
      "execution_count": 0,
      "outputs": []
    },
    {
      "cell_type": "code",
      "metadata": {
        "id": "sMPSFih8DMQk",
        "colab_type": "code",
        "colab": {}
      },
      "source": [
        ""
      ],
      "execution_count": 0,
      "outputs": []
    },
    {
      "cell_type": "code",
      "metadata": {
        "id": "RRT3CQ3XDMcL",
        "colab_type": "code",
        "colab": {}
      },
      "source": [
        ""
      ],
      "execution_count": 0,
      "outputs": []
    },
    {
      "cell_type": "code",
      "metadata": {
        "id": "hyCg253SDMnQ",
        "colab_type": "code",
        "colab": {}
      },
      "source": [
        ""
      ],
      "execution_count": 0,
      "outputs": []
    },
    {
      "cell_type": "code",
      "metadata": {
        "id": "-Ic-kGzBDMub",
        "colab_type": "code",
        "colab": {}
      },
      "source": [
        ""
      ],
      "execution_count": 0,
      "outputs": []
    },
    {
      "cell_type": "code",
      "metadata": {
        "id": "0wfYoJCQDM2s",
        "colab_type": "code",
        "colab": {}
      },
      "source": [
        ""
      ],
      "execution_count": 0,
      "outputs": []
    },
    {
      "cell_type": "code",
      "metadata": {
        "id": "U4hGwUA4DM_S",
        "colab_type": "code",
        "colab": {}
      },
      "source": [
        ""
      ],
      "execution_count": 0,
      "outputs": []
    },
    {
      "cell_type": "code",
      "metadata": {
        "id": "h1_QutRyug0G",
        "colab_type": "code",
        "colab": {}
      },
      "source": [
        ""
      ],
      "execution_count": 0,
      "outputs": []
    },
    {
      "cell_type": "code",
      "metadata": {
        "id": "IkRfc55TMZ54",
        "colab_type": "code",
        "colab": {}
      },
      "source": [
        ""
      ],
      "execution_count": 0,
      "outputs": []
    },
    {
      "cell_type": "code",
      "metadata": {
        "id": "M9Y7cpWBdJNe",
        "colab_type": "code",
        "colab": {}
      },
      "source": [
        ""
      ],
      "execution_count": 0,
      "outputs": []
    }
  ]
}