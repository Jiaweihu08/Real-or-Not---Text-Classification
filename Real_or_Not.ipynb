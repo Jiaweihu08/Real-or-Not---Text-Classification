{
  "nbformat": 4,
  "nbformat_minor": 0,
  "metadata": {
    "colab": {
      "name": "Real or Not.ipynb",
      "provenance": [],
      "mount_file_id": "11mJvYoXJwsENAg2wbw6A2MfPE4Khigsv",
      "authorship_tag": "ABX9TyMlR0diTjagDZW/0FDuh/no",
      "include_colab_link": true
    },
    "kernelspec": {
      "name": "python3",
      "display_name": "Python 3"
    },
    "accelerator": "GPU"
  },
  "cells": [
    {
      "cell_type": "markdown",
      "metadata": {
        "id": "view-in-github",
        "colab_type": "text"
      },
      "source": [
        "<a href=\"https://colab.research.google.com/github/Jiaweihu08/Real-or-Not---Text-Classification/blob/master/Real_or_Not.ipynb\" target=\"_parent\"><img src=\"https://colab.research.google.com/assets/colab-badge.svg\" alt=\"Open In Colab\"/></a>"
      ]
    },
    {
      "cell_type": "markdown",
      "metadata": {
        "id": "KB7vkpaWclxJ",
        "colab_type": "text"
      },
      "source": [
        "## **Loading Libraries**"
      ]
    },
    {
      "cell_type": "code",
      "metadata": {
        "id": "QUADR7JqBR5i",
        "colab_type": "code",
        "colab": {}
      },
      "source": [
        "import pandas as pd\n",
        "import numpy as np\n",
        "import matplotlib.pyplot as plt\n",
        "import seaborn as sns\n",
        "from wordcloud import WordCloud\n",
        "\n",
        "import nltk\n",
        "from nltk.tokenize import word_tokenize\n",
        "nltk.download('punkt')\n",
        "from nltk.corpus import stopwords\n",
        "nltk.download('stopwords')\n",
        "from nltk import FreqDist\n",
        "nltk.download('wordnet')\n",
        "from nltk.stem import WordNetLemmatizer\n",
        "from nltk.corpus import wordnet\n",
        "nltk.download('averaged_perceptron_tagger')\n",
        "\n",
        "%tensorflow_version 2.x\n",
        "import tensorflow as tf\n",
        "from tensorflow import keras\n",
        "from tensorflow.keras.layers import Embedding, LSTM, Dropout, Dense\n",
        "from keras.preprocessing.text import Tokenizer\n",
        "from keras.preprocessing.sequence import pad_sequences\n",
        "import tensorflow_hub as hub\n",
        "\n",
        "import string\n",
        "import re"
      ],
      "execution_count": 0,
      "outputs": []
    },
    {
      "cell_type": "markdown",
      "metadata": {
        "id": "4g-WwbRmFJ_A",
        "colab_type": "text"
      },
      "source": [
        "## **Loading data**"
      ]
    },
    {
      "cell_type": "code",
      "metadata": {
        "id": "wthS6t5DB9mp",
        "colab_type": "code",
        "outputId": "909d83fd-72b3-42cc-eaa3-fd2a564a29c2",
        "colab": {
          "base_uri": "https://localhost:8080/",
          "height": 359
        }
      },
      "source": [
        "# Files mounted from Drive\n",
        "train_path = \"/content/drive/My Drive/Colab Notebooks/NLP/Real or Not/train.csv\"\n",
        "test_path = \"/content/drive/My Drive/Colab Notebooks/NLP/Real or Not/test.csv\"\n",
        "\n",
        "def load_data(path=train_path):\n",
        "    return pd.read_csv(path)\n",
        "\n",
        "df = load_data()\n",
        "df.head(10)"
      ],
      "execution_count": 0,
      "outputs": [
        {
          "output_type": "execute_result",
          "data": {
            "text/html": [
              "<div>\n",
              "<style scoped>\n",
              "    .dataframe tbody tr th:only-of-type {\n",
              "        vertical-align: middle;\n",
              "    }\n",
              "\n",
              "    .dataframe tbody tr th {\n",
              "        vertical-align: top;\n",
              "    }\n",
              "\n",
              "    .dataframe thead th {\n",
              "        text-align: right;\n",
              "    }\n",
              "</style>\n",
              "<table border=\"1\" class=\"dataframe\">\n",
              "  <thead>\n",
              "    <tr style=\"text-align: right;\">\n",
              "      <th></th>\n",
              "      <th>id</th>\n",
              "      <th>keyword</th>\n",
              "      <th>location</th>\n",
              "      <th>text</th>\n",
              "      <th>target</th>\n",
              "    </tr>\n",
              "  </thead>\n",
              "  <tbody>\n",
              "    <tr>\n",
              "      <th>0</th>\n",
              "      <td>1</td>\n",
              "      <td>NaN</td>\n",
              "      <td>NaN</td>\n",
              "      <td>Our Deeds are the Reason of this #earthquake M...</td>\n",
              "      <td>1</td>\n",
              "    </tr>\n",
              "    <tr>\n",
              "      <th>1</th>\n",
              "      <td>4</td>\n",
              "      <td>NaN</td>\n",
              "      <td>NaN</td>\n",
              "      <td>Forest fire near La Ronge Sask. Canada</td>\n",
              "      <td>1</td>\n",
              "    </tr>\n",
              "    <tr>\n",
              "      <th>2</th>\n",
              "      <td>5</td>\n",
              "      <td>NaN</td>\n",
              "      <td>NaN</td>\n",
              "      <td>All residents asked to 'shelter in place' are ...</td>\n",
              "      <td>1</td>\n",
              "    </tr>\n",
              "    <tr>\n",
              "      <th>3</th>\n",
              "      <td>6</td>\n",
              "      <td>NaN</td>\n",
              "      <td>NaN</td>\n",
              "      <td>13,000 people receive #wildfires evacuation or...</td>\n",
              "      <td>1</td>\n",
              "    </tr>\n",
              "    <tr>\n",
              "      <th>4</th>\n",
              "      <td>7</td>\n",
              "      <td>NaN</td>\n",
              "      <td>NaN</td>\n",
              "      <td>Just got sent this photo from Ruby #Alaska as ...</td>\n",
              "      <td>1</td>\n",
              "    </tr>\n",
              "    <tr>\n",
              "      <th>5</th>\n",
              "      <td>8</td>\n",
              "      <td>NaN</td>\n",
              "      <td>NaN</td>\n",
              "      <td>#RockyFire Update =&gt; California Hwy. 20 closed...</td>\n",
              "      <td>1</td>\n",
              "    </tr>\n",
              "    <tr>\n",
              "      <th>6</th>\n",
              "      <td>10</td>\n",
              "      <td>NaN</td>\n",
              "      <td>NaN</td>\n",
              "      <td>#flood #disaster Heavy rain causes flash flood...</td>\n",
              "      <td>1</td>\n",
              "    </tr>\n",
              "    <tr>\n",
              "      <th>7</th>\n",
              "      <td>13</td>\n",
              "      <td>NaN</td>\n",
              "      <td>NaN</td>\n",
              "      <td>I'm on top of the hill and I can see a fire in...</td>\n",
              "      <td>1</td>\n",
              "    </tr>\n",
              "    <tr>\n",
              "      <th>8</th>\n",
              "      <td>14</td>\n",
              "      <td>NaN</td>\n",
              "      <td>NaN</td>\n",
              "      <td>There's an emergency evacuation happening now ...</td>\n",
              "      <td>1</td>\n",
              "    </tr>\n",
              "    <tr>\n",
              "      <th>9</th>\n",
              "      <td>15</td>\n",
              "      <td>NaN</td>\n",
              "      <td>NaN</td>\n",
              "      <td>I'm afraid that the tornado is coming to our a...</td>\n",
              "      <td>1</td>\n",
              "    </tr>\n",
              "  </tbody>\n",
              "</table>\n",
              "</div>"
            ],
            "text/plain": [
              "   id keyword  ...                                               text target\n",
              "0   1     NaN  ...  Our Deeds are the Reason of this #earthquake M...      1\n",
              "1   4     NaN  ...             Forest fire near La Ronge Sask. Canada      1\n",
              "2   5     NaN  ...  All residents asked to 'shelter in place' are ...      1\n",
              "3   6     NaN  ...  13,000 people receive #wildfires evacuation or...      1\n",
              "4   7     NaN  ...  Just got sent this photo from Ruby #Alaska as ...      1\n",
              "5   8     NaN  ...  #RockyFire Update => California Hwy. 20 closed...      1\n",
              "6  10     NaN  ...  #flood #disaster Heavy rain causes flash flood...      1\n",
              "7  13     NaN  ...  I'm on top of the hill and I can see a fire in...      1\n",
              "8  14     NaN  ...  There's an emergency evacuation happening now ...      1\n",
              "9  15     NaN  ...  I'm afraid that the tornado is coming to our a...      1\n",
              "\n",
              "[10 rows x 5 columns]"
            ]
          },
          "metadata": {
            "tags": []
          },
          "execution_count": 2
        }
      ]
    },
    {
      "cell_type": "markdown",
      "metadata": {
        "id": "P1Wm4oIiFMpj",
        "colab_type": "text"
      },
      "source": [
        "## **Exploratory Data Analysis(EDA)**"
      ]
    },
    {
      "cell_type": "markdown",
      "metadata": {
        "id": "hbdrpaojFQeF",
        "colab_type": "text"
      },
      "source": [
        "**EDA content:**\n",
        "\n",
        "    1. Check weather the dataset is balanced i.e. the same number of instances for each category.\n",
        "\n",
        "    2. keyword and location analysis: check the most frequent keyword and locations for each case and see if there's a strong overlap. How sparse are they?(The amount of NAN).\n",
        "    \n",
        "    3. text analysis, for each category:\n",
        "        a. most common words\n",
        "        b. average text length\n",
        "        c. average word length\n",
        "        e. hashtag analysis: what are the most frequent hashtags used for each category\n",
        "\n",
        "        "
      ]
    },
    {
      "cell_type": "markdown",
      "metadata": {
        "id": "42dYOBI_QEq6",
        "colab_type": "text"
      },
      "source": [
        "#### **Balanced dataset?**"
      ]
    },
    {
      "cell_type": "markdown",
      "metadata": {
        "id": "hDmdzLzklMaB",
        "colab_type": "text"
      },
      "source": [
        "If the number of instances is the similar for all categories then yes.\n",
        "Otherwise consider using **Precision** or **Recall** instead of accuracy as metrics.\n",
        "\n",
        "**Precision** tells you that, among all the positive predictions, what percentage of them were correct.\n",
        "\n",
        "**Recall** statands for the percentage of the positive instances that were correctly predicted. \n",
        "\n",
        "Use Precision if want to minimize **false alarms**, and use Recall if you want to minimized **missed opportunities**.\n",
        "\n",
        "Say that we were to used tweets as a predictor for disaster and we want to act as quick as possible when a disaster is being 'reported' via twitter. We would want to used Recall as the metrics cause it minimizes the chance of a positive case being missclassified.\n",
        "\n",
        "On the other hand, if we want to optimized the usage of our resources, Precision should be applied since it makes sure that false positives are as little as possible.\n",
        "\n",
        "Precision/Recall are trad-offs since if one increases the other one necessarily deseases. If we want to balance them out we should use **F1 score**."
      ]
    },
    {
      "cell_type": "code",
      "metadata": {
        "id": "3y7YZzzBDKpx",
        "colab_type": "code",
        "outputId": "89ff203f-331b-40fb-eafd-4353fa578ed1",
        "colab": {
          "base_uri": "https://localhost:8080/",
          "height": 350
        }
      },
      "source": [
        "pos = len(df[df['target'] == 0])\n",
        "neg = len(df[df['target'] == 1])\n",
        "total = len(df)\n",
        "\n",
        "print(\"- Columns in the data frame: {}\\n\".format(df.columns))\n",
        "print(\"- Number of total instances: {}\".format(total))\n",
        "print(\"- Number of 'positive' tweets: {} --> {:.0f}%\".format(pos, pos/total*100))\n",
        "print(\"- Number of 'disaster' tweets: {} --> {:.0f}%\".format(neg, neg/total*100))\n",
        "\n",
        "x = df.target.value_counts()\n",
        "sns.barplot(x.index, x)\n",
        "plt.gca().set_ylabel('samples')\n",
        "plt.show()"
      ],
      "execution_count": 0,
      "outputs": [
        {
          "output_type": "stream",
          "text": [
            "- Columns in the data frame: Index(['id', 'keyword', 'location', 'text', 'target'], dtype='object')\n",
            "\n",
            "- Number of total instances: 7613\n",
            "- Number of 'positive' tweets: 4342 --> 57%\n",
            "- Number of 'disaster' tweets: 3271 --> 43%\n"
          ],
          "name": "stdout"
        },
        {
          "output_type": "display_data",
          "data": {
            "image/png": "[encoded data removed]",
            "text/plain": [
              "<Figure size 432x288 with 1 Axes>"
            ]
          },
          "metadata": {
            "tags": []
          }
        }
      ]
    },
    {
      "cell_type": "markdown",
      "metadata": {
        "id": "ZqQ0S-oKTJNf",
        "colab_type": "text"
      },
      "source": [
        "#### **Keyword and Location**\n",
        "\n",
        "For both Keyword and Location, check **sparsity**. If good, proceed analysis to see the amount of overlap."
      ]
    },
    {
      "cell_type": "code",
      "metadata": {
        "id": "YffCHQ05Dknf",
        "colab_type": "code",
        "outputId": "09121a82-de3c-4dfd-9b95-e1decabdb096",
        "colab": {
          "base_uri": "https://localhost:8080/",
          "height": 119
        }
      },
      "source": [
        "total_kw = len(df[df['keyword'].isna()])\n",
        "total_lc = len(df[df['location'].isna()])\n",
        "\n",
        "unique_kw = len(set(df.keyword.values)) - 1\n",
        "unique_lc = len(set(df.location.values)) - 1\n",
        "\n",
        "print(\"Number of instances with keywords: {} --> {:.0f}%\".format(total-num_nan_kw,\n",
        "                                                                 (total-num_nan_kw)/total*100))\n",
        "print(\"     {} of which are unique.\".format(unique_kw))\n",
        "\n",
        "print(\"Number of instances with locations: {} -- > {:.0f}%\".format(total-num_nan_lc,\n",
        "                                                                   (total-num_nan_lc)/total*100))\n",
        "print(\"     {} of which are unique.\".format(unique_lc))\n",
        "print(\"\\nLocation is too sparse to be used!\")"
      ],
      "execution_count": 0,
      "outputs": [
        {
          "output_type": "stream",
          "text": [
            "Number of instances with keywords: 7552 --> 99%\n",
            "     221 of which are unique.\n",
            "Number of instances with locations: 5080 -- > 67%\n",
            "     3341 of which are unique.\n",
            "\n",
            "Location is too sparse to be used!\n"
          ],
          "name": "stdout"
        }
      ]
    },
    {
      "cell_type": "code",
      "metadata": {
        "id": "Tl8Qo9YJiGKc",
        "colab_type": "code",
        "outputId": "25819530-af09-490c-9892-4a8b8401c6f1",
        "colab": {
          "base_uri": "https://localhost:8080/",
          "height": 731
        }
      },
      "source": [
        "total_kw_counts = dict(df['keyword'].value_counts())\n",
        "positive_kw_counts = dict(df[df['target'] == 0].keyword.value_counts())\n",
        "disaster_kw_counts = dict(df[df['target'] == 1].keyword.value_counts())\n",
        "\n",
        "for kw, _ in sorted(total_kw_counts.items(), key=lambda x: x[1], reverse=True)[:10]:\n",
        "    print(\"Keyword: {}\".format(kw))\n",
        "    print(\"     - Counts in 'Positive' tweets: {}\".format(positive_kw_counts.get(kw, None)))\n",
        "    print(\"     - Counts in 'Disaster' tweets: {}\".format(disaster_kw_counts.get(kw, None)))\n",
        "    print()\n",
        "    \n",
        "print(\"\\nThe most frequent keywords are used in both categories!\")"
      ],
      "execution_count": 0,
      "outputs": [
        {
          "output_type": "stream",
          "text": [
            "Keyword: fatalities\n",
            "     - Counts in 'Positive' tweets: 19\n",
            "     - Counts in 'Disaster' tweets: 26\n",
            "\n",
            "Keyword: armageddon\n",
            "     - Counts in 'Positive' tweets: 37\n",
            "     - Counts in 'Disaster' tweets: 5\n",
            "\n",
            "Keyword: deluge\n",
            "     - Counts in 'Positive' tweets: 36\n",
            "     - Counts in 'Disaster' tweets: 6\n",
            "\n",
            "Keyword: sinking\n",
            "     - Counts in 'Positive' tweets: 33\n",
            "     - Counts in 'Disaster' tweets: 8\n",
            "\n",
            "Keyword: body%20bags\n",
            "     - Counts in 'Positive' tweets: 40\n",
            "     - Counts in 'Disaster' tweets: 1\n",
            "\n",
            "Keyword: damage\n",
            "     - Counts in 'Positive' tweets: 22\n",
            "     - Counts in 'Disaster' tweets: 19\n",
            "\n",
            "Keyword: harm\n",
            "     - Counts in 'Positive' tweets: 37\n",
            "     - Counts in 'Disaster' tweets: 4\n",
            "\n",
            "Keyword: fear\n",
            "     - Counts in 'Positive' tweets: 35\n",
            "     - Counts in 'Disaster' tweets: 5\n",
            "\n",
            "Keyword: outbreak\n",
            "     - Counts in 'Positive' tweets: 1\n",
            "     - Counts in 'Disaster' tweets: 39\n",
            "\n",
            "Keyword: windstorm\n",
            "     - Counts in 'Positive' tweets: 24\n",
            "     - Counts in 'Disaster' tweets: 16\n",
            "\n",
            "\n",
            "The most frequent keywords are used in both categories!\n"
          ],
          "name": "stdout"
        }
      ]
    },
    {
      "cell_type": "markdown",
      "metadata": {
        "id": "ICmxjU55lPoG",
        "colab_type": "text"
      },
      "source": [
        "#### **Text Analysis**"
      ]
    },
    {
      "cell_type": "markdown",
      "metadata": {
        "id": "F600vrX8lX4-",
        "colab_type": "text"
      },
      "source": [
        "Most common words:"
      ]
    },
    {
      "cell_type": "code",
      "metadata": {
        "id": "yNkaDo2QlUYa",
        "colab_type": "code",
        "outputId": "e18c72ff-2330-4ba9-a8c8-d441a14bdc56",
        "colab": {
          "base_uri": "https://localhost:8080/",
          "height": 1000
        }
      },
      "source": [
        "# Let's find the most common words in each category, excluding\n",
        "# punctuations and stop words.\n",
        "\n",
        "table = str.maketrans(' ', ' ', string.punctuation)\n",
        "stop = set(stopwords.words('english') + ['http', 'https'])\n",
        "\n",
        "def most_common(target_, field='text', stop=stop, remove_punc=True, cloud=False):\n",
        "    title = 'Disaster' if target_ == 1 else 'Positive'\n",
        "    print(\"\\nMost Common Words in {} Tweets:\".format(title))\n",
        "\n",
        "    text = df[df['target'] == target_][field].str.lower().str.cat(sep=' ')\n",
        "    if remove_punc:\n",
        "        text = text.translate(table)\n",
        "    words = word_tokenize(text)\n",
        "    word_dist = FreqDist(w for w in words if w not in stop)\n",
        "\n",
        "    result = pd.DataFrame(word_dist.most_common(10), columns=['Word', 'Frequency']).set_index('Word')\n",
        "    print(result)\n",
        "    if cloud:\n",
        "        wc = WordCloud(background_color='white')\n",
        "        wc.generate(text)\n",
        "\n",
        "        plt.axis('off')\n",
        "        plt.imshow(wc)\n",
        "        plt.show()\n",
        "    else:\n",
        "        result.plot.bar()\n",
        "\n",
        "most_common(0)\n",
        "most_common(1)"
      ],
      "execution_count": 0,
      "outputs": [
        {
          "output_type": "stream",
          "text": [
            "\n",
            "Most Common Words in Positive Tweets:\n",
            "       Frequency\n",
            "Word            \n",
            "like         253\n",
            "im           243\n",
            "amp          192\n",
            "new          168\n",
            "get          163\n",
            "dont         141\n",
            "one          128\n",
            "body         112\n",
            "via           99\n",
            "would         97\n",
            "\n",
            "Most Common Words in Disaster Tweets:\n",
            "            Frequency\n",
            "Word                 \n",
            "fire              178\n",
            "news              136\n",
            "via               121\n",
            "disaster          117\n",
            "california        111\n",
            "suicide           110\n",
            "police            107\n",
            "amp               106\n",
            "people            105\n",
            "killed             93\n"
          ],
          "name": "stdout"
        },
        {
          "output_type": "display_data",
          "data": {
            "image/png": "[encoded data removed]",
            "text/plain": [
              "<Figure size 432x288 with 1 Axes>"
            ]
          },
          "metadata": {
            "tags": []
          }
        },
        {
          "output_type": "display_data",
          "data": {
            "image/png": "[encoded data removed]",
            "text/plain": [
              "<Figure size 432x288 with 1 Axes>"
            ]
          },
          "metadata": {
            "tags": []
          }
        }
      ]
    },
    {
      "cell_type": "markdown",
      "metadata": {
        "id": "wF4oLaJYUxxM",
        "colab_type": "text"
      },
      "source": [
        "Text and Word Distribution:"
      ]
    },
    {
      "cell_type": "code",
      "metadata": {
        "id": "QazPvF19lUUq",
        "colab_type": "code",
        "outputId": "08ef3c98-6957-4e73-9ca0-3af4bdd0709b",
        "colab": {
          "base_uri": "https://localhost:8080/",
          "height": 695
        }
      },
      "source": [
        "def plot_hist(_dist, _header):\n",
        "    fig, (ax1, ax2) = plt.subplots(1, 2, figsize=(10, 5))\n",
        "    ax1.hist(_dist(0), color='blue')\n",
        "    ax1.set_title('Positive tweets')\n",
        "\n",
        "    ax2.hist(_dist(1), color='red')\n",
        "    ax2.set_title('Disaster tweets')\n",
        "\n",
        "    fig.suptitle(_header)\n",
        "    plt.show()\n",
        "    plt.close()\n",
        "\n",
        "def char_dist(_target):\n",
        "    return df[df['target'] == _target]['text'].str.replace(' ', '').str.len()\n",
        "\n",
        "def word_dist(_target):\n",
        "    return df[df['target'] == _target]['text'].str.split().map(lambda x: len(x))\n",
        "\n",
        "plot_hist(char_dist, \"Character Distribution\")\n",
        "plot_hist(word_dist, \"Word Distribution\")"
      ],
      "execution_count": 0,
      "outputs": [
        {
          "output_type": "display_data",
          "data": {
            "image/png": "[encoded data removed]",
            "text/plain": [
              "<Figure size 720x360 with 2 Axes>"
            ]
          },
          "metadata": {
            "tags": []
          }
        },
        {
          "output_type": "display_data",
          "data": {
            "image/png": "[encoded data removed]",
            "text/plain": [
              "<Figure size 720x360 with 2 Axes>"
            ]
          },
          "metadata": {
            "tags": []
          }
        }
      ]
    },
    {
      "cell_type": "code",
      "metadata": {
        "id": "KjR420KolUO6",
        "colab_type": "code",
        "outputId": "ea8deb31-671b-4b4c-b41b-75099686a312",
        "colab": {
          "base_uri": "https://localhost:8080/",
          "height": 370
        }
      },
      "source": [
        "pos_avg_len = df[df['target'] == 0]['text'].str.split().map(lambda x: np.mean([len(i) for i in x]))\n",
        "dis_avg_len = df[df['target'] == 1]['text'].str.split().map(lambda x: np.mean([len(i) for i in x]))\n",
        "fig, (ax1, ax2) = plt.subplots(1, 2, figsize=(10, 5))\n",
        "\n",
        "sns.distplot(pos_avg_len, ax=ax1, color='blue')\n",
        "ax1.set_title(\"Positive tweets\")\n",
        "sns.distplot(dis_avg_len, ax=ax2, color='red')\n",
        "ax2.set_title(\"Disaster tweets\")\n",
        "\n",
        "fig.suptitle(\"Word Length Distribution\")\n",
        "plt.show()\n",
        "plt.close()"
      ],
      "execution_count": 0,
      "outputs": [
        {
          "output_type": "display_data",
          "data": {
            "image/png": "[encoded data removed]",
            "text/plain": [
              "<Figure size 720x360 with 2 Axes>"
            ]
          },
          "metadata": {
            "tags": []
          }
        }
      ]
    },
    {
      "cell_type": "markdown",
      "metadata": {
        "id": "9zkPrcjnlPPM",
        "colab_type": "text"
      },
      "source": [
        "Hashtag Analysis:\n",
        "\n",
        "    1. Add a hashtag column to the dataset\n",
        "    2. Find the top 10 most common hashtags in both categories"
      ]
    },
    {
      "cell_type": "code",
      "metadata": {
        "id": "sKRDaiLWlRAN",
        "colab_type": "code",
        "outputId": "b051bc03-8a34-400b-d501-0c270ed2907f",
        "colab": {
          "base_uri": "https://localhost:8080/",
          "height": 1000
        }
      },
      "source": [
        "def find_hash(tweet):\n",
        "    return ' ,'.join(re.findall(r'#\\w+', tweet)) or None\n",
        "\n",
        "df['hashtags'] = df['text'].map(lambda tweet: find_hash(tweet))\n",
        "df.head()\n",
        "\n",
        "hash_stop = set(['#', ','])\n",
        "most_common(0, field='hashtags', stop=hash_stop, remove_punc=False)\n",
        "most_common(1, field='hashtags', stop=hash_stop, remove_punc=False)\n",
        "\n"
      ],
      "execution_count": 0,
      "outputs": [
        {
          "output_type": "stream",
          "text": [
            "\n",
            "Most Common Words in Positive Tweets:\n",
            "            Frequency\n",
            "Word                 \n",
            "nowplaying         21\n",
            "news               20\n",
            "hot                18\n",
            "prebreak           17\n",
            "best               17\n",
            "gbbo               14\n",
            "jobs               14\n",
            "islam              14\n",
            "job                12\n",
            "hiring             10\n",
            "\n",
            "Most Common Words in Disaster Tweets:\n",
            "            Frequency\n",
            "Word                 \n",
            "news               56\n",
            "hiroshima          22\n",
            "earthquake         19\n",
            "hot                13\n",
            "prebreak           13\n",
            "best               13\n",
            "japan              11\n",
            "india              10\n",
            "yyc                10\n",
            "breaking            9\n"
          ],
          "name": "stdout"
        },
        {
          "output_type": "display_data",
          "data": {
            "image/png": "[encoded data removed]",
            "text/plain": [
              "<Figure size 432x288 with 1 Axes>"
            ]
          },
          "metadata": {
            "tags": []
          }
        },
        {
          "output_type": "display_data",
          "data": {
            "image/png": "[encoded data removed]",
            "text/plain": [
              "<Figure size 432x288 with 1 Axes>"
            ]
          },
          "metadata": {
            "tags": []
          }
        }
      ]
    },
    {
      "cell_type": "markdown",
      "metadata": {
        "id": "SlDpUwSr9AEQ",
        "colab_type": "text"
      },
      "source": [
        "## **Data Cleaning**"
      ]
    },
    {
      "cell_type": "markdown",
      "metadata": {
        "id": "En5U_i9H9L3v",
        "colab_type": "text"
      },
      "source": [
        "    1. Lowercasing\n",
        "    2. Remove url\n",
        "    3. Remove html tags\n",
        "    4. Remove punctuations\n",
        "    5. Remove emojis\n",
        "    6. Stemming/Lemmatization"
      ]
    },
    {
      "cell_type": "code",
      "metadata": {
        "id": "GzkVofo6xjy-",
        "colab_type": "code",
        "colab": {}
      },
      "source": [
        "def clean_data(df=df, rm_stop=False, lemma=False):\n",
        "    # lowercasing\n",
        "    df['text'] = df['text'].str.lower()\n",
        "\n",
        "    # remove url\n",
        "    def remove_url(tweet):\n",
        "        pattern = re.compile(r'https?://\\S+|www\\.\\S+')\n",
        "        return pattern.sub(' ', tweet)\n",
        "    df['text'] = df['text'].map(lambda tweet: remove_url(tweet))\n",
        "\n",
        "    # remove html tags\n",
        "    def remove_html(tweet):\n",
        "        pattern = re.compile(r'<\\.*?>')\n",
        "        return pattern.sub(' ', tweet)\n",
        "    df['text'] = df['text'].map(lambda tweet: remove_html(tweet))\n",
        "\n",
        "    # remove punctuations\n",
        "    table = str.maketrans(' ', ' ', string.punctuation)\n",
        "    def remove_punc(tweet):\n",
        "        return tweet.translate(table)\n",
        "    df['text'] = df['text'].map(lambda tweet: remove_punc(tweet))\n",
        "\n",
        "    # Removing emojis\n",
        "    # Reference : https://gist.github.com/slowkow/7a7f61f495e3dbb7e3d767f97bd7304b\n",
        "    def remove_emoji(tweet):\n",
        "        emoji_pattern = re.compile(\"[\"\n",
        "                                u\"\\U0001F600-\\U0001F64F\"  # emoticons\n",
        "                                u\"\\U0001F300-\\U0001F5FF\"  # symbols & pictographs\n",
        "                                u\"\\U0001F680-\\U0001F6FF\"  # transport & map symbols\n",
        "                                u\"\\U0001F1E0-\\U0001F1FF\"  # flags (iOS)\n",
        "                                u\"\\U00002702-\\U000027B0\"\n",
        "                                u\"\\U000024C2-\\U0001F251\"\n",
        "                                \"]+\", flags=re.UNICODE)\n",
        "        return emoji_pattern.sub(r'', tweet)\n",
        "    df['text'] = df['text'].map(lambda tweet: remove_emoji(tweet))\n",
        "\n",
        "    # Remove stopwords\n",
        "    def remove_stop(tweet):\n",
        "        stop = stopwords.words('english')\n",
        "        return ' '.join([word for word in tweet.split() if word not in stop])\n",
        "    if rm_stop:\n",
        "        df['text'] = df['text'].map(lambda tweet: remove_stop(tweet))\n",
        "\n",
        "    # Lemmatizing\n",
        "    if lemma:\n",
        "        def get_wordnet_pos(word):\n",
        "            \"\"\"Map POS tag to first character lemmatize() accepts\"\"\"\n",
        "            tag = nltk.pos_tag([word])[0][1][0].upper()\n",
        "            tag_dict = {\"J\": wordnet.ADJ,\n",
        "                        \"N\": wordnet.NOUN,\n",
        "                        \"V\": wordnet.VERB,\n",
        "                        \"R\": wordnet.ADV}\n",
        "            return tag_dict.get(tag, wordnet.NOUN)\n",
        "\n",
        "        lemmatizer = WordNetLemmatizer()\n",
        "        def lemmatize_tweet(tweet):\n",
        "            words = word_tokenize(tweet)\n",
        "            return ' '.join([lemmatizer.lemmatize(word, get_wordnet_pos(word)) for word in words])\n",
        "        df['text'] = df['text'].map(lambda tweet: lemmatize_tweet(tweet))\n",
        "\n",
        "    return df"
      ],
      "execution_count": 0,
      "outputs": []
    },
    {
      "cell_type": "code",
      "metadata": {
        "id": "wst5MbsmA7DV",
        "colab_type": "code",
        "outputId": "2c036285-df25-4c17-d36b-38a34df8f7a9",
        "colab": {
          "base_uri": "https://localhost:8080/",
          "height": 204
        }
      },
      "source": [
        "df.head()"
      ],
      "execution_count": 0,
      "outputs": [
        {
          "output_type": "execute_result",
          "data": {
            "text/html": [
              "<div>\n",
              "<style scoped>\n",
              "    .dataframe tbody tr th:only-of-type {\n",
              "        vertical-align: middle;\n",
              "    }\n",
              "\n",
              "    .dataframe tbody tr th {\n",
              "        vertical-align: top;\n",
              "    }\n",
              "\n",
              "    .dataframe thead th {\n",
              "        text-align: right;\n",
              "    }\n",
              "</style>\n",
              "<table border=\"1\" class=\"dataframe\">\n",
              "  <thead>\n",
              "    <tr style=\"text-align: right;\">\n",
              "      <th></th>\n",
              "      <th>id</th>\n",
              "      <th>keyword</th>\n",
              "      <th>location</th>\n",
              "      <th>text</th>\n",
              "      <th>target</th>\n",
              "      <th>hashtags</th>\n",
              "    </tr>\n",
              "  </thead>\n",
              "  <tbody>\n",
              "    <tr>\n",
              "      <th>0</th>\n",
              "      <td>1</td>\n",
              "      <td>NaN</td>\n",
              "      <td>NaN</td>\n",
              "      <td>Our Deeds are the Reason of this #earthquake M...</td>\n",
              "      <td>1</td>\n",
              "      <td>#earthquake</td>\n",
              "    </tr>\n",
              "    <tr>\n",
              "      <th>1</th>\n",
              "      <td>4</td>\n",
              "      <td>NaN</td>\n",
              "      <td>NaN</td>\n",
              "      <td>Forest fire near La Ronge Sask. Canada</td>\n",
              "      <td>1</td>\n",
              "      <td>None</td>\n",
              "    </tr>\n",
              "    <tr>\n",
              "      <th>2</th>\n",
              "      <td>5</td>\n",
              "      <td>NaN</td>\n",
              "      <td>NaN</td>\n",
              "      <td>All residents asked to 'shelter in place' are ...</td>\n",
              "      <td>1</td>\n",
              "      <td>None</td>\n",
              "    </tr>\n",
              "    <tr>\n",
              "      <th>3</th>\n",
              "      <td>6</td>\n",
              "      <td>NaN</td>\n",
              "      <td>NaN</td>\n",
              "      <td>13,000 people receive #wildfires evacuation or...</td>\n",
              "      <td>1</td>\n",
              "      <td>#wildfires</td>\n",
              "    </tr>\n",
              "    <tr>\n",
              "      <th>4</th>\n",
              "      <td>7</td>\n",
              "      <td>NaN</td>\n",
              "      <td>NaN</td>\n",
              "      <td>Just got sent this photo from Ruby #Alaska as ...</td>\n",
              "      <td>1</td>\n",
              "      <td>#Alaska ,#wildfires</td>\n",
              "    </tr>\n",
              "  </tbody>\n",
              "</table>\n",
              "</div>"
            ],
            "text/plain": [
              "   id keyword  ... target             hashtags\n",
              "0   1     NaN  ...      1          #earthquake\n",
              "1   4     NaN  ...      1                 None\n",
              "2   5     NaN  ...      1                 None\n",
              "3   6     NaN  ...      1           #wildfires\n",
              "4   7     NaN  ...      1  #Alaska ,#wildfires\n",
              "\n",
              "[5 rows x 6 columns]"
            ]
          },
          "metadata": {
            "tags": []
          },
          "execution_count": 13
        }
      ]
    },
    {
      "cell_type": "code",
      "metadata": {
        "id": "H4dpkx1eB1dA",
        "colab_type": "code",
        "outputId": "13186c9d-4535-43f2-dab2-c5d33010a849",
        "colab": {
          "base_uri": "https://localhost:8080/",
          "height": 204
        }
      },
      "source": [
        "df = clean_data()\n",
        "df[['text']].head()"
      ],
      "execution_count": 0,
      "outputs": [
        {
          "output_type": "execute_result",
          "data": {
            "text/html": [
              "<div>\n",
              "<style scoped>\n",
              "    .dataframe tbody tr th:only-of-type {\n",
              "        vertical-align: middle;\n",
              "    }\n",
              "\n",
              "    .dataframe tbody tr th {\n",
              "        vertical-align: top;\n",
              "    }\n",
              "\n",
              "    .dataframe thead th {\n",
              "        text-align: right;\n",
              "    }\n",
              "</style>\n",
              "<table border=\"1\" class=\"dataframe\">\n",
              "  <thead>\n",
              "    <tr style=\"text-align: right;\">\n",
              "      <th></th>\n",
              "      <th>text</th>\n",
              "    </tr>\n",
              "  </thead>\n",
              "  <tbody>\n",
              "    <tr>\n",
              "      <th>0</th>\n",
              "      <td>our deeds are the reason of this earthquake ma...</td>\n",
              "    </tr>\n",
              "    <tr>\n",
              "      <th>1</th>\n",
              "      <td>forest fire near la ronge sask canada</td>\n",
              "    </tr>\n",
              "    <tr>\n",
              "      <th>2</th>\n",
              "      <td>all residents asked to shelter in place are be...</td>\n",
              "    </tr>\n",
              "    <tr>\n",
              "      <th>3</th>\n",
              "      <td>13000 people receive wildfires evacuation orde...</td>\n",
              "    </tr>\n",
              "    <tr>\n",
              "      <th>4</th>\n",
              "      <td>just got sent this photo from ruby alaska as s...</td>\n",
              "    </tr>\n",
              "  </tbody>\n",
              "</table>\n",
              "</div>"
            ],
            "text/plain": [
              "                                                text\n",
              "0  our deeds are the reason of this earthquake ma...\n",
              "1              forest fire near la ronge sask canada\n",
              "2  all residents asked to shelter in place are be...\n",
              "3  13000 people receive wildfires evacuation orde...\n",
              "4  just got sent this photo from ruby alaska as s..."
            ]
          },
          "metadata": {
            "tags": []
          },
          "execution_count": 17
        }
      ]
    },
    {
      "cell_type": "markdown",
      "metadata": {
        "id": "b_yvU781N6H9",
        "colab_type": "text"
      },
      "source": [
        "## **Modelling**"
      ]
    },
    {
      "cell_type": "markdown",
      "metadata": {
        "id": "WXZekmjhPOd1",
        "colab_type": "text"
      },
      "source": [
        "#### **Model Util**"
      ]
    },
    {
      "cell_type": "code",
      "metadata": {
        "id": "mN7af-4tPN2H",
        "colab_type": "code",
        "colab": {}
      },
      "source": [
        "from sklearn.model_selection import train_test_split\n",
        "def get_train_test_data(rm_stop=False, lemma=False):\n",
        "    df = load_data()\n",
        "    df = clean_data(rm_stop=rm_stop, lemma=lemma)\n",
        "\n",
        "    X_train, X_test, y_train, y_test = train_test_split(df.text, df.target, test_size=750, random_state=42)\n",
        "\n",
        "    print(\"{} instances for training, {} for validation\".format(len(X_train), len(X_test)))\n",
        "\n",
        "    return X_train, y_train, X_test, y_test"
      ],
      "execution_count": 0,
      "outputs": []
    },
    {
      "cell_type": "markdown",
      "metadata": {
        "id": "Yfp9K3qoOA24",
        "colab_type": "text"
      },
      "source": [
        "#### **Baseline model**"
      ]
    },
    {
      "cell_type": "code",
      "metadata": {
        "id": "iyyznrTILhzk",
        "colab_type": "code",
        "outputId": "c106998b-df5b-417a-df39-40067a1aaf67",
        "colab": {
          "base_uri": "https://localhost:8080/",
          "height": 187
        }
      },
      "source": [
        "from sklearn.linear_model import LogisticRegression\n",
        "from sklearn.feature_extraction.text import TfidfVectorizer\n",
        "from sklearn.pipeline import Pipeline\n",
        "from sklearn.metrics import accuracy_score, classification_report\n",
        "\n",
        "baseline_pipe = Pipeline([\n",
        "                    ('tfidf', TfidfVectorizer()),\n",
        "                    ('lr', LogisticRegression())\n",
        "])\n",
        "\n",
        "X_train, y_train, X_test, y_test = get_train_test_data(rm_stop=True, lemma=True)\n",
        "\n",
        "baseline_pipe.fit(X_train, y_train)\n",
        "y_pred = baseline_pipe.predict(X_test)\n",
        "\n",
        "# print(classification_report(y_test, y_pred))\n",
        "print(accuracy_score(y_test, y_pred))"
      ],
      "execution_count": 0,
      "outputs": [
        {
          "output_type": "stream",
          "text": [
            "              precision    recall  f1-score   support\n",
            "\n",
            "           0       0.77      0.88      0.82       574\n",
            "           1       0.80      0.65      0.72       426\n",
            "\n",
            "    accuracy                           0.78      1000\n",
            "   macro avg       0.79      0.77      0.77      1000\n",
            "weighted avg       0.79      0.78      0.78      1000\n",
            "\n",
            "0.783\n"
          ],
          "name": "stdout"
        }
      ]
    },
    {
      "cell_type": "markdown",
      "metadata": {
        "id": "w-gLyrbuW04G",
        "colab_type": "text"
      },
      "source": [
        "#### **Gradient Boosting**"
      ]
    },
    {
      "cell_type": "code",
      "metadata": {
        "id": "b0AD7sRcLhtm",
        "colab_type": "code",
        "colab": {}
      },
      "source": [
        "from sklearn.ensemble import GradientBoostingClassifier\n",
        "from sklearn.feature_extraction.text import TfidfVectorizer\n",
        "from sklearn.pipeline import Pipeline\n",
        "from sklearn.metrics import accuracy_score\n",
        "\n",
        "X_train, y_train, X_test, y_test = get_train_test_data()\n",
        "\n",
        "gb_clf = Pipeline([\n",
        "                   ('tfidf', TfidfVectorizer()),\n",
        "                   ('gb_clf', GradientBoostingClassifier(n_estimators=300))\n",
        "])\n",
        "\n",
        "gb_clf.fit(X_train, y_train)\n",
        "y_pred = gb_clf.predict(X_test)\n",
        "print(accuracy_score(y_test, y_pred))"
      ],
      "execution_count": 0,
      "outputs": []
    },
    {
      "cell_type": "code",
      "metadata": {
        "id": "XV5e5wtULhnY",
        "colab_type": "code",
        "colab": {}
      },
      "source": [
        "#XGBoost\n",
        "import xgboost\n",
        "\n",
        "xgbclf_pipe = Pipeline([\n",
        "                        ('tfidf', TfidfVectorizer()),\n",
        "                        ('xgb_clf', xgboost.XGBClassifier(n_estimators=300))\n",
        "])\n",
        "\n",
        "xgbclf_pipe.fit(X_train, y_train)\n",
        "y_pred = xgbclf_pipe.predict(X_test)\n",
        "print(accuracy_score(y_test, y_pred))"
      ],
      "execution_count": 0,
      "outputs": []
    },
    {
      "cell_type": "markdown",
      "metadata": {
        "id": "QVw6ErdhYESA",
        "colab_type": "text"
      },
      "source": [
        "#### **RNN**"
      ]
    },
    {
      "cell_type": "code",
      "metadata": {
        "id": "C-wK9zjxLhaO",
        "colab_type": "code",
        "outputId": "9aac7d70-d619-4fb1-e57d-fed6e3b58e1d",
        "colab": {
          "base_uri": "https://localhost:8080/",
          "height": 765
        }
      },
      "source": [
        "X_train, y_train, X_test, y_test = get_train_test_data()\n",
        "\n",
        "word_counts = X_train.map(lambda x: len(word_tokenize(x)))\n",
        "print(\"\\nThe max number of words in all training instances: {}\".format(max(word_counts)))\n",
        "\n",
        "words = word_tokenize(X_train.str.cat(sep=' '))\n",
        "unique_words = len(set(words))\n",
        "print(\"The number of unique words in all training instances: {}\\n\".format(unique_words))\n",
        "\n",
        "oov_words = 2000\n",
        "num_words = 10000\n",
        "max_len = max(word_counts) + 5\n",
        "emb_dim = 50\n",
        "batch_size = 32\n",
        "epochs = 10\n",
        "\n",
        "def get_train_val_data():\n",
        "    df = load_data()\n",
        "    df = clean_data()\n",
        "\n",
        "    tokenizer = Tokenizer(num_words=num_words, oov_token=oov_words)\n",
        "    tokenizer.fit_on_texts(X_train)\n",
        "\n",
        "    seq = tokenizer.texts_to_sequences(df.text)\n",
        "    seq = pad_sequences(seq, maxlen=max_len, padding='post')\n",
        "    Y = np.expand_dims(df.target.values, -1)\n",
        "\n",
        "    return seq, Y, tokenizer\n",
        "\n",
        "def get_rnn_model():\n",
        "    model = keras.models.Sequential([\n",
        "                                     Embedding(input_dim=num_words+oov_words,\n",
        "                                               output_dim=emb_dim,\n",
        "                                               input_shape=[None]),\n",
        "                                     LSTM(64),\n",
        "                                     Dense(256, activation='relu'),\n",
        "                                     Dropout(0.5),\n",
        "                                     Dense(1, activation='sigmoid')\n",
        "    ])\n",
        "\n",
        "    model.compile(optimizer='rmsprop', loss='binary_crossentropy', metrics=['accuracy'])\n",
        "    model.summary()\n",
        "    return model\n",
        "\n",
        "X, Y, tok = get_train_val_data()\n",
        "model = get_rnn_model()\n",
        "\n",
        "history = model.fit(X, Y, epochs=epochs, batch_size=batch_size, validation_split=0.1, verbose=1)\n",
        "\n",
        "# def plot_graphs(history, string):\n",
        "#     plt.plot(history.history[string])\n",
        "#     plt.plot(history.history['val_'+string], '')\n",
        "#     plt.xlabel('Epochs')\n",
        "#     plt.ylabel(string)\n",
        "#     plt.legend([string, 'val_'+string])\n",
        "#     plt.show()\n",
        "\n",
        "# plot_graphs(history, 'accuracy')\n",
        "# plot_graphs(history, 'loss')"
      ],
      "execution_count": 0,
      "outputs": [
        {
          "output_type": "stream",
          "text": [
            "6863 instances for training, 750 for validation\n",
            "\n",
            "The max number of words in all training instances: 25\n",
            "The number of unique words in all training instances: 14725\n",
            "\n",
            "Model: \"sequential_6\"\n",
            "_________________________________________________________________\n",
            "Layer (type)                 Output Shape              Param #   \n",
            "=================================================================\n",
            "embedding_7 (Embedding)      (None, None, 50)          600000    \n",
            "_________________________________________________________________\n",
            "lstm (LSTM)                  (None, 64)                29440     \n",
            "_________________________________________________________________\n",
            "dense_8 (Dense)              (None, 256)               16640     \n",
            "_________________________________________________________________\n",
            "dropout (Dropout)            (None, 256)               0         \n",
            "_________________________________________________________________\n",
            "dense_9 (Dense)              (None, 1)                 257       \n",
            "=================================================================\n",
            "Total params: 646,337\n",
            "Trainable params: 646,337\n",
            "Non-trainable params: 0\n",
            "_________________________________________________________________\n",
            "Train on 6851 samples, validate on 762 samples\n",
            "Epoch 1/10\n",
            "6851/6851 [==============================] - 3s 456us/sample - loss: 0.5517 - accuracy: 0.7126 - val_loss: 0.5224 - val_accuracy: 0.8018\n",
            "Epoch 2/10\n",
            "6851/6851 [==============================] - 2s 239us/sample - loss: 0.3913 - accuracy: 0.8396 - val_loss: 0.4720 - val_accuracy: 0.8084\n",
            "Epoch 3/10\n",
            "6851/6851 [==============================] - 2s 244us/sample - loss: 0.3459 - accuracy: 0.8619 - val_loss: 0.4388 - val_accuracy: 0.7979\n",
            "Epoch 4/10\n",
            "6851/6851 [==============================] - 2s 237us/sample - loss: 0.3191 - accuracy: 0.8771 - val_loss: 0.6503 - val_accuracy: 0.6969\n",
            "Epoch 5/10\n",
            "6851/6851 [==============================] - 2s 237us/sample - loss: 0.3003 - accuracy: 0.8848 - val_loss: 0.5116 - val_accuracy: 0.7388\n",
            "Epoch 6/10\n",
            "6851/6851 [==============================] - 2s 235us/sample - loss: 0.2824 - accuracy: 0.8899 - val_loss: 0.5264 - val_accuracy: 0.7703\n",
            "Epoch 7/10\n",
            "6851/6851 [==============================] - 2s 239us/sample - loss: 0.2720 - accuracy: 0.8983 - val_loss: 0.5830 - val_accuracy: 0.6693\n",
            "Epoch 8/10\n",
            "6851/6851 [==============================] - 2s 241us/sample - loss: 0.2603 - accuracy: 0.9048 - val_loss: 0.6249 - val_accuracy: 0.7848\n",
            "Epoch 9/10\n",
            "6851/6851 [==============================] - 2s 238us/sample - loss: 0.2545 - accuracy: 0.9063 - val_loss: 0.5676 - val_accuracy: 0.7113\n",
            "Epoch 10/10\n",
            "6851/6851 [==============================] - 2s 239us/sample - loss: 0.2495 - accuracy: 0.9085 - val_loss: 0.5364 - val_accuracy: 0.7808\n"
          ],
          "name": "stdout"
        }
      ]
    },
    {
      "cell_type": "markdown",
      "metadata": {
        "id": "sPOyIdmSY0sS",
        "colab_type": "text"
      },
      "source": [
        "#### **BERT TfHub**"
      ]
    },
    {
      "cell_type": "markdown",
      "metadata": {
        "id": "mIFI0WUaZRUm",
        "colab_type": "text"
      },
      "source": [
        "Creating the model for text classification:\n",
        "\n",
        "The BERT layer takes 3 input arguments:\n",
        "\n",
        "    1. input_word_ids: sequence of word tokens\n",
        "    2. input_mask: masking the paddings\n",
        "    3. segment_ids: used to identify either of the input sentences\n",
        "\n",
        "The BERT output consists of \n",
        "\n",
        "    1. pooled_output, a condensed sequence representation. And\n",
        "    2. sequence_output, the entire encoding of the input.\n",
        "\n",
        "We take the sequence output and pass it to a single-unit dense layer for classification.\n",
        "\n",
        "BERT is pre-trained on a large text corpus and it has generated its own vocabulary. We use its own tokenizer to tokenize our sentences.\n",
        "\n",
        "Note: Sentences always start with '[CLS]' token and it's embedding is used as a sentence-level representation(sequence_output[:, 0, :])."
      ]
    },
    {
      "cell_type": "code",
      "metadata": {
        "id": "ewOOHjhqyscx",
        "colab_type": "code",
        "colab": {}
      },
      "source": [
        "!pip install bert-for-tf2\n",
        "!pip install sentencepiece\n",
        "\n",
        "import bert\n",
        "FullTokenizer = bert.bert_tokenization.FullTokenizer\n",
        "\n",
        "def get_bert_layer_tokenizer():\n",
        "    # Creating the bert layer\n",
        "    # module_url = \"https://tfhub.dev/tensorflow/bert_en_uncased_L-12_H-768_A-12/1\"\n",
        "    module_url = \"https://tfhub.dev/tensorflow/bert_en_uncased_L-24_H-1024_A-16/1\"\n",
        "    bert_layer = hub.KerasLayer(module_url, trainable=True)\n",
        "\n",
        "    # Instantiating BERT Tokenizer\n",
        "    vocab_file = bert_layer.resolved_object.vocab_file.asset_path.numpy()\n",
        "    do_lower_case = bert_layer.resolved_object.do_lower_case.numpy()\n",
        "    tokenizer = FullTokenizer(vocab_file, do_lower_case)\n",
        "    return bert_layer, tokenizer\n",
        "\n",
        "def get_tokens(tweet, tokenizer):\n",
        "    tokens = tokenizer.tokenize(tweet)\n",
        "    return [\"[CLS]\"] + tokens + [\"[SEP]\"]\n",
        "\n",
        "def get_ids(tokens, tokenizer, max_seq_length=160):\n",
        "    if len(tokens)>max_seq_length:\n",
        "        raise IndexError(\"Token length more than max seq length\")\n",
        "\n",
        "    token_ids = tokenizer.convert_tokens_to_ids(tokens)\n",
        "    input_ids = token_ids + [0] * (max_seq_length - len(token_ids))\n",
        "    \n",
        "    return input_ids\n",
        "\n",
        "def get_masks(tokens, max_seq_length=160):\n",
        "    if len(tokens)>max_seq_length:\n",
        "        raise IndexError(\"Token length more than max seq length\")\n",
        "\n",
        "    return [1] * len(tokens) + [0] * (max_seq_length - len(tokens))\n",
        "\n",
        "def get_segments(tokens, max_seq_length=160):\n",
        "    if len(tokens)>max_seq_length:\n",
        "        raise IndexError(\"Token length more than max seq length\")\n",
        "\n",
        "    segments = []\n",
        "    current_segment_id = 0\n",
        "    for token in tokens:\n",
        "        segments.append(current_segment_id)\n",
        "        if token == '[SEP]':\n",
        "            current_segment_id = 1\n",
        "\n",
        "    return segments + [0] * (max_seq_length - len(tokens))\n",
        "\n",
        "def bert_encode(X, tokenizer):\n",
        "    token_ids = []\n",
        "    token_masks= []\n",
        "    token_segments = []\n",
        "\n",
        "    for text in X:\n",
        "        tokens = get_tokens(text, tokenizer)\n",
        "\n",
        "        token_id = get_ids(tokens, tokenizer)\n",
        "        token_mask = get_masks(tokens)\n",
        "        token_segment = get_segments(tokens)\n",
        "\n",
        "        token_ids.append(token_id)\n",
        "        token_masks.append(token_mask)\n",
        "        token_segments.append(token_segment)\n",
        "\n",
        "    return np.array(token_ids), np.array(token_masks), np.array(token_segments)\n",
        "\n",
        "def bert_model(bert_layer, max_seq_length = 512):\n",
        "    input_word_ids = keras.layers.Input(shape=(max_seq_length,), dtype=tf.int32,\n",
        "                                        name=\"input_word_ids\")\n",
        "    input_mask = keras.layers.Input(shape=(max_seq_length,), dtype=tf.int32,\n",
        "                                    name=\"input_mask\")\n",
        "    segment_ids = keras.layers.Input(shape=(max_seq_length,), dtype=tf.int32,\n",
        "                                        name=\"segment_ids\")\n",
        "    # bert_layer = hub.KerasLayer(\"https://tfhub.dev/tensorflow/bert_en_uncased_L-12_H-768_A-12/1\",\n",
        "    #                             trainable=True)\n",
        "    pooled_output, sequence_output = bert_layer([input_word_ids, input_mask, segment_ids])\n",
        "    \n",
        "    kernel_size = 5\n",
        "    filters = 64\n",
        "    pool_size = 4\n",
        "    \n",
        "    x = keras.layers.Dropout(0.1)(sequence_output)\n",
        "    x = keras.layers.Conv1D(filters,\n",
        "                            kernel_size,\n",
        "                            padding='valid',\n",
        "                            activation='relu',\n",
        "                            strides=1)(x)\n",
        "    x = keras.layers.MaxPooling1D(pool_size=pool_size)(x)\n",
        "    x = keras.layers.Bidirectional(tf.keras.layers.LSTM(64))(x)\n",
        "    out = keras.layers.Dense(1, activation=\"sigmoid\")(x)\n",
        "    model = keras.models.Model(inputs=[input_word_ids, input_mask, segment_ids], outputs=out)\n",
        "    \n",
        "    opt = keras.optimizers.Adam(lr=1e-5)\n",
        "    model.compile(optimizer=opt, loss='binary_crossentropy', metrics=['accuracy'])\n",
        "    \n",
        "    return model\n",
        "\n",
        "batch_size = 16\n",
        "epochs = 20\n",
        "\n",
        "df = load_data()\n",
        "df = clean_data()\n",
        "X = df['text'].values\n",
        "Y = np.expand_dim(df['target'].values, -1)\n",
        "\n",
        "bert_layer, tokenizer = get_bert_layer_tokenizer()\n",
        "X = bert_encode(X, tokenizer)\n",
        "\n",
        "bert = bert_model(bert_layer)\n",
        "bert_summary()\n",
        "\n",
        "early_stopping = tf.keras.callbacks.EarlyStopping(\n",
        "    monitor='val_accuracy', \n",
        "    verbose=1,\n",
        "    patience=4,\n",
        "    mode='max',\n",
        "    restore_best_weights=True)\n",
        "\n",
        "history = bert.fit(X, Y, batch_size=batch_size, epochs=epochs, validation_split=0.1, callbacks=[early_stopping])"
      ],
      "execution_count": 0,
      "outputs": []
    },
    {
      "cell_type": "markdown",
      "metadata": {
        "id": "vKOfiOULZmsF",
        "colab_type": "text"
      },
      "source": [
        "#### **SuperLearner Ensemble**"
      ]
    },
    {
      "cell_type": "code",
      "metadata": {
        "id": "51RJWX4sZsVT",
        "colab_type": "code",
        "colab": {}
      },
      "source": [
        "!pip install bert-for-tf2\n",
        "!pip install sentencepiece\n",
        "import bert\n",
        "FullTokenizer = bert.bert_tokenization.FullTokenizer\n",
        "\n",
        "from sklearn.linear_model import LogisticRegression\n",
        "from sklearn.tree import DecisionTreeClassifier\n",
        "from sklearn.naive_bayes import GaussianNB\n",
        "from sklearn.neighbors import KNeighborsClassifier\n",
        "from sklearn.svm import SVC\n",
        "from sklearn.ensemble import BaggingClassifier\n",
        "from sklearn.ensemble import RandomForestClassifier\n",
        "from sklearn.ensemble import ExtraTreesClassifier\n",
        "from sklearn.ensemble import AdaBoostClassifier\n",
        "from sklearn.ensemble import GradientBoostingClassifier\n",
        "\n",
        "from sklearn.feature_extraction import TfidfVectorizer\n",
        "from sklearn.base import TransformerMixin\n",
        "from sklearn.pipeline import Pipeline\n",
        "from sklearn.model_selection import train_test_split\n",
        "from sklearn.model_selection import KFold\n",
        "from sklearn.metrics import accuracy\n",
        "\n",
        "\n",
        "class ToDense(TransformerMixin):\n",
        "    def fit(self, X, y=None, **fit_params):\n",
        "        return self\n",
        "    \n",
        "    def transform(self, X, y=None, **fit_params):\n",
        "        return X.toarray()\n",
        "\n",
        "def get_ensemble():\n",
        "    tfidf_vectorizer = TfidfVectorizer(\n",
        "        # preprocessor=lambda x: x,\n",
        "        # tokenizer=lambda x: x,\n",
        "        # token_pattern=None\n",
        "    )\n",
        "\n",
        "    lr_pipe = Pipeline([('tfidf', tfidf_vectorizer), ('lr', LogisticRegression())])\n",
        "    tree_pipe = Pipeline([('tfidf', tfidf_vectorizer), ('dt', DecisionTreeClassifier())])\n",
        "    gaus_pipe = Pipeline([('tfidf', tfidf_vectorizer), ('to_dense', ToDense()), ('gaus', GaussianNB())])\n",
        "    kn_pipe = Pipeline([('tfidf', tfidf_vectorizer), ('kn', KNeighborsClassifier())])\n",
        "    svm_pipe = Pipeline([('tfidf', tfidf_vectorizer), ('svm', SVC(gamma='scale', probability=True))])\n",
        "    bag_pipe = Pipeline([('tfidf', tfidf_vectorizer), ('bag', BaggingClassifier(n_estimators=10))])\n",
        "    rf_pipe = Pipeline([('tfidf', tfidf_vectorizer), ('rf', RandomForestClassifier(n_estimators=10))])\n",
        "    et_pipe = Pipeline([('tfidf', tfidf_vectorizer), ('et', ExtraTreesClassifier(n_estimatos=10))])\n",
        "    ada_pipe = Pipeline([('tfidf', tfidf_vectorizer), ('ada', AdaBoostClassifier(n_estimators=10))])\n",
        "    gb_pipe = Pipeline([('tfidf', TfidfVectorizer()),('gb', GradientBoostingClassifier(n_estimators=100))])\n",
        "    # bert_pipe = Pipeline([('bert_vec' BertVectorizer(), ('bert_clf', BertClassifier(num_classes=2)))])\n",
        "\n",
        "    bert_layer, tokenizer = get_bert_layer_tokenizer()\n",
        "    bert_model = bert_model(bert_layer)\n",
        "    bert_model.summary()\n",
        "\n",
        "    ensemble = list()\n",
        "    # ensemble.append(bert_pipe)\n",
        "    ensemble.append(bert_model)\n",
        "    ensemble.append(lr_pipe)\n",
        "    ensemble.append(tree_pipe)\n",
        "    ensemble.append(gaus_pipe)\n",
        "    ensemble.append(kn_pipe)\n",
        "    ensemble.append(svm_pipe)\n",
        "    ensemble.append(bag_pipe)\n",
        "    ensemble.append(rf_pipe)\n",
        "    ensemble.append(et_pipe)\n",
        "    ensemble.append(ada_pipe)\n",
        "    ensemble.append(gb_pipe)\n",
        "    \n",
        "    return ensemble\n",
        "\n",
        "def get_meta_data(ensemble, X, y):\n",
        "    kfold = KFold(n_splits=5, shuffle=True)\n",
        "    meta_X, meta_y = list(), list()\n",
        "    \n",
        "    for train_ids, test_ids in kfold.split(X):\n",
        "        yhat = list()\n",
        "        \n",
        "        train_X, train_y = X[train_ids], y[train_ids]\n",
        "        test_X, test_y = X[test_ids], test_y[test_ids]\n",
        "        \n",
        "        meta_y.extend(test_y)\n",
        "        \n",
        "        for num, model in enumerate(ensembel):\n",
        "            if num == 0:\n",
        "                train_X = bert_encode(train_X)\n",
        "                test_X = bert_encode(test_X)\n",
        "                \n",
        "                early_stopping = tf.keras.callbacks.EarlyStopping(\n",
        "                    monitor='val_accuracy', \n",
        "                    verbose=1,\n",
        "                    patience=4,\n",
        "                    mode='max',\n",
        "                    restore_best_weights=True)\n",
        "                \n",
        "                model.fit(train_X, train_y, batch_size=16, epochs=10,\n",
        "                          validation_split=0.25, callbacks=[early_stopping])\n",
        "                preds = model.predict(test_X)\n",
        "                _y = list()\n",
        "                for t in preds:\n",
        "                    one_prob = t[0]\n",
        "                    zero_prob = 1 - one_prob\n",
        "                    _y.append([zero_prob, one_prob])\n",
        "                preds = np.asarray(_y)\n",
        "            else:\n",
        "                model.fit(train_X, train_y)\n",
        "                preds = model.predict_proba(test_X)\n",
        "            \n",
        "            yhat.append(preds)\n",
        "\n",
        "        meta_X.append(np.hstack(yhat))\n",
        "    \n",
        "    return np.vstack(meta_X), np.asarray(meta_y)\n",
        "\n",
        "def fit_ensemble(ensemble, X, y):\n",
        "    for num, model in enumerate(ensemble):\n",
        "        if num == 0:\n",
        "            X = bert_encode(X)\n",
        "            early_stopping = tf.keras.callbacks.EarlyStopping(\n",
        "                    monitor='val_accuracy', \n",
        "                    verbose=1,\n",
        "                    patience=4,\n",
        "                    mode='max',\n",
        "                    restore_best_weights=True)\n",
        "                \n",
        "            model.fit(X, y, batch_size=16, epochs=10,\n",
        "                      validation_split=0.10, callbacks=[early_stopping])\n",
        "        else:\n",
        "            model.fit(X, y)\n",
        "    \n",
        "def fit_blender(meta_X, meta_y):\n",
        "    blender = ExtraTreesClassifier(n_estimators=30)\n",
        "    blender.fit(meta_X, meta_y)\n",
        "    return blender\n",
        "\n",
        "def ensemble_prediction(ensemble, blender, X):\n",
        "    meta_X = list()\n",
        "    for num, model in enumerate(ensemble):\n",
        "        if num == 0:\n",
        "            preds = model.predict(X)\n",
        "            _y = list()\n",
        "            for t in preds:\n",
        "                one_prob = t[0]\n",
        "                zero_prob = 1 - one_prob\n",
        "                _y.append([zero_prob, one_prob])\n",
        "            preds = np.asarray(_y)\n",
        "        else:\n",
        "            preds = model.predict_proba(X)\n",
        "        meta_X.append(preds)\n",
        "    meta_X = np.hstack(meta_X)\n",
        "    return blender.predict(meta_x)"
      ],
      "execution_count": 0,
      "outputs": []
    },
    {
      "cell_type": "code",
      "metadata": {
        "id": "h6OFDOtqZzeK",
        "colab_type": "code",
        "colab": {}
      },
      "source": [
        "X_train, X_test, y_train, y_test = get_train_test_data()\n",
        "\n",
        "ensemble = get_ensemble()\n",
        "\n",
        "meta_X, meta_y = get_meta_data(ensemble, X_train, y_train)\n",
        "print('Meta data: ', meta_X.shape)\n",
        "\n",
        "fit_ensemble(ensemble, X_train, y_train)\n",
        "\n",
        "blender = fit_blender(meta_X, meta_y)\n",
        "\n",
        "test_preds = ensemble_prediction(ensemble, blender, X_test)\n",
        "\n",
        "print(accuracy_score(y_test, test_preds))"
      ],
      "execution_count": 0,
      "outputs": []
    }
  ]
}